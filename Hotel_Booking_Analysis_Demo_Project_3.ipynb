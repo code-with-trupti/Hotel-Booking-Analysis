{
  "nbformat": 4,
  "nbformat_minor": 0,
  "metadata": {
    "colab": {
      "provenance": [],
      "collapsed_sections": [
        "K5QZ13OEpz2H",
        "lQ7QKXXCp7Bj",
        "gCFgpxoyphqP",
        "OVtJsKN_phqQ",
        "1M8mcRywphqQ",
        "tgIPom80phqQ",
        "JcMwzZxoAimU",
        "gCX9965dhzqZ",
        "gIfDvo9L0UH2"
      ],
      "include_colab_link": true
    },
    "kernelspec": {
      "name": "python3",
      "display_name": "Python 3"
    },
    "language_info": {
      "name": "python"
    }
  },
  "cells": [
    {
      "cell_type": "markdown",
      "metadata": {
        "id": "view-in-github",
        "colab_type": "text"
      },
      "source": [
        "<a href=\"https://colab.research.google.com/github/code-with-trupti/TruptiPatil/blob/main/Hotel_Booking_Analysis_Demo_Project_3.ipynb\" target=\"_parent\"><img src=\"https://colab.research.google.com/assets/colab-badge.svg\" alt=\"Open In Colab\"/></a>"
      ]
    },
    {
      "cell_type": "markdown",
      "source": [
        "# **Project Name**    - **Hote Booking Analysis**\n",
        "\n"
      ],
      "metadata": {
        "id": "vncDsAP0Gaoa"
      }
    },
    {
      "cell_type": "markdown",
      "source": [
        "##### **Project Type**    - EDA\n",
        "##### **Contribution**    - Individual"
      ],
      "metadata": {
        "id": "beRrZCGUAJYm"
      }
    },
    {
      "cell_type": "markdown",
      "source": [
        "# **Project Summary -**"
      ],
      "metadata": {
        "id": "FJNUwmbgGyua"
      }
    },
    {
      "cell_type": "markdown",
      "source": [
        "\n",
        "The given dataset is of hotel booking. I explored and analyzed the given dataset and discovered some important factors regarding hotel booking. For this, I first read the given data in my collab notebook and then understand the whole data like what are variables in the given data. After that cleaned the data frame in data wrangling. For that I used some functions like drop(), fillna(), isna()/isnull() functions. Then I added some columns which are required in the analysis and removed some columns which are not required. Using this data frame I explored some variables using visualization charts like pie charts, count plots, barplot, and heatmaps and I can find out some insights which are important factors. From these insights, I can suggest some business objectives to clients.\n",
        "\n",
        "   This data set contains booking information for a resort hotel, and includes information such as when the booking was made, length of stay, the number of adults, children, and/or babies, and the number of available parking spaces, among other things. All personally identifying information has been removed from the data."
      ],
      "metadata": {
        "id": "F6v_1wHtG2nS"
      }
    },
    {
      "cell_type": "markdown",
      "source": [
        "# **GitHub Link -**"
      ],
      "metadata": {
        "id": "w6K7xa23Elo4"
      }
    },
    {
      "cell_type": "markdown",
      "source": [
        "https://github.com/code-with-trupti/TruptiPatil/blob/main/Hotel_Booking_Analysis_Demo_Project_.ipynb"
      ],
      "metadata": {
        "id": "IyiH96rHQUdp"
      }
    },
    {
      "cell_type": "markdown",
      "source": [
        "# **Problem Statement**\n"
      ],
      "metadata": {
        "id": "yQaldy8SH6Dl"
      }
    },
    {
      "cell_type": "markdown",
      "source": [
        "The given dataset is of hotel booking. I explored and analyzed the given dataset and discovered some important factors regarding hotel booking. For this, I first read the given data in my collab notebook and then understand the whole data like what are variables in the given data. After that cleaned the data frame in data wrangling. For that I used some functions like drop(), fillna(), isna()/isnull() functions. Then I added some columns which are required in the analysis and removed some columns which are not required. Using this data frame I explored some variables using visualization charts like pie charts, count plots, barplot, and heatmaps and I can find out some insights which are important factors. From these insights, I can suggest some business objectives to clients."
      ],
      "metadata": {
        "id": "xUmqpz-dQzCS"
      }
    },
    {
      "cell_type": "markdown",
      "source": [
        "#### **Define Your Business Objective?**"
      ],
      "metadata": {
        "id": "PH-0ReGfmX4f"
      }
    },
    {
      "cell_type": "markdown",
      "source": [
        "Analyse the data on Hotel Booking and discover the different factors which affects the booking"
      ],
      "metadata": {
        "id": "fPqYKLqHQ64B"
      }
    },
    {
      "cell_type": "markdown",
      "source": [
        "# **General Guidelines** : -  "
      ],
      "metadata": {
        "id": "mDgbUHAGgjLW"
      }
    },
    {
      "cell_type": "markdown",
      "source": [
        "1.   Well-structured, formatted, and commented code is required.\n",
        "2.   Exception Handling, Production Grade Code & Deployment Ready Code will be a plus. Those students will be awarded some additional credits.\n",
        "     \n",
        "     The additional credits will have advantages over other students during Star Student selection.\n",
        "       \n",
        "             [ Note: - Deployment Ready Code is defined as, the whole .ipynb notebook should be executable in one go\n",
        "                       without a single error logged. ]\n",
        "\n",
        "3.   Each and every logic should have proper comments.\n",
        "4. You may add as many number of charts you want. Make Sure for each and every chart the following format should be answered.\n",
        "        \n",
        "\n",
        "```\n",
        "# Chart visualization code\n",
        "```\n",
        "            \n",
        "\n",
        "*   Why did you pick the specific chart?\n",
        "*   What is/are the insight(s) found from the chart?\n",
        "* Will the gained insights help creating a positive business impact?\n",
        "Are there any insights that lead to negative growth? Justify with specific reason.\n",
        "\n",
        "5. You have to create at least 20 logical & meaningful charts having important insights.\n",
        "\n",
        "\n",
        "[ Hints : - Do the Vizualization in  a structured way while following \"UBM\" Rule.\n",
        "\n",
        "U - Univariate Analysis,\n",
        "\n",
        "B - Bivariate Analysis (Numerical - Categorical, Numerical - Numerical, Categorical - Categorical)\n",
        "\n",
        "M - Multivariate Analysis\n",
        " ]\n",
        "\n",
        "\n",
        "\n"
      ],
      "metadata": {
        "id": "ZrxVaUj-hHfC"
      }
    },
    {
      "cell_type": "markdown",
      "source": [
        "# ***Let's Begin !***"
      ],
      "metadata": {
        "id": "O_i_v8NEhb9l"
      }
    },
    {
      "cell_type": "markdown",
      "source": [
        "## ***1. Know Your Data***"
      ],
      "metadata": {
        "id": "HhfV-JJviCcP"
      }
    },
    {
      "cell_type": "markdown",
      "source": [
        "### Import Libraries"
      ],
      "metadata": {
        "id": "Y3lxredqlCYt"
      }
    },
    {
      "cell_type": "code",
      "source": [
        "# Import libraries\n",
        "import numpy as np\n",
        "import pandas as pd\n",
        "import matplotlib.pyplot as plt\n",
        "import  seaborn as sns"
      ],
      "metadata": {
        "id": "msUAzuNLRQA1"
      },
      "execution_count": 1,
      "outputs": []
    },
    {
      "cell_type": "markdown",
      "source": [
        "### Dataset Loading"
      ],
      "metadata": {
        "id": "3RnN4peoiCZX"
      }
    },
    {
      "cell_type": "code",
      "source": [
        "# Load Dataset\n",
        "from google.colab import drive\n",
        "drive.mount('/content/drive')"
      ],
      "metadata": {
        "id": "4CkvbW_SlZ_R",
        "colab": {
          "base_uri": "https://localhost:8080/"
        },
        "outputId": "f969df98-a34c-44ae-d7f9-6b235eec793d"
      },
      "execution_count": 2,
      "outputs": [
        {
          "output_type": "stream",
          "name": "stdout",
          "text": [
            "Mounted at /content/drive\n"
          ]
        }
      ]
    },
    {
      "cell_type": "markdown",
      "source": [
        "### Dataset First View"
      ],
      "metadata": {
        "id": "x71ZqKXriCWQ"
      }
    },
    {
      "cell_type": "code",
      "source": [
        "# Dataset First Look\n",
        "filepath = \"/content/Hotel Bookings.csv\"\n",
        "df = pd.read_csv(filepath)\n",
        "df"
      ],
      "metadata": {
        "id": "LWNFOSvLl09H",
        "colab": {
          "base_uri": "https://localhost:8080/",
          "height": 617
        },
        "outputId": "4f618324-bd62-4e3a-fe34-fb080908d4b1"
      },
      "execution_count": 3,
      "outputs": [
        {
          "output_type": "execute_result",
          "data": {
            "text/plain": [
              "              hotel  is_canceled  lead_time  arrival_date_year  \\\n",
              "0      Resort Hotel            0        342               2015   \n",
              "1      Resort Hotel            0        737               2015   \n",
              "2      Resort Hotel            0          7               2015   \n",
              "3      Resort Hotel            0         13               2015   \n",
              "4      Resort Hotel            0         14               2015   \n",
              "...             ...          ...        ...                ...   \n",
              "14679  Resort Hotel            0          0               2017   \n",
              "14680  Resort Hotel            1        399               2015   \n",
              "14681  Resort Hotel            1        202               2015   \n",
              "14682  Resort Hotel            1        259               2015   \n",
              "14683  Resort Hotel            1        259               2015   \n",
              "\n",
              "      arrival_date_month  arrival_date_week_number  arrival_date_day_of_month  \\\n",
              "0                   July                        27                          1   \n",
              "1                   July                        27                          1   \n",
              "2                   July                        27                          1   \n",
              "3                   July                        27                          1   \n",
              "4                   July                        27                          1   \n",
              "...                  ...                       ...                        ...   \n",
              "14679              April                        16                         18   \n",
              "14680           December                        52                         22   \n",
              "14681               July                        30                         22   \n",
              "14682          September                        38                         17   \n",
              "14683          September                        38                         17   \n",
              "\n",
              "       stays_in_weekend_nights  stays_in_week_nights  adults  ...  \\\n",
              "0                            0                     0     2.0  ...   \n",
              "1                            0                     0     2.0  ...   \n",
              "2                            0                     1     1.0  ...   \n",
              "3                            0                     1     1.0  ...   \n",
              "4                            0                     2     2.0  ...   \n",
              "...                        ...                   ...     ...  ...   \n",
              "14679                        0                     1     1.0  ...   \n",
              "14680                        0                     1     2.0  ...   \n",
              "14681                        2                     5     2.0  ...   \n",
              "14682                        0                     3     2.0  ...   \n",
              "14683                        0                     3     NaN  ...   \n",
              "\n",
              "       deposit_type  agent company days_in_waiting_list customer_type    adr  \\\n",
              "0        No Deposit    NaN     NaN                  0.0     Transient   0.00   \n",
              "1        No Deposit    NaN     NaN                  0.0     Transient   0.00   \n",
              "2        No Deposit    NaN     NaN                  0.0     Transient  75.00   \n",
              "3        No Deposit  304.0     NaN                  0.0     Transient  75.00   \n",
              "4        No Deposit  240.0     NaN                  0.0     Transient  98.00   \n",
              "...             ...    ...     ...                  ...           ...    ...   \n",
              "14679    No Deposit    NaN   329.0                  0.0     Transient  74.00   \n",
              "14680    No Deposit  240.0     NaN                  0.0     Transient  36.00   \n",
              "14681    No Deposit  156.0     NaN                  0.0      Contract  90.95   \n",
              "14682    Non Refund    NaN   223.0                  0.0     Transient  40.05   \n",
              "14683           NaN    NaN     NaN                  NaN           NaN    NaN   \n",
              "\n",
              "       required_car_parking_spaces  total_of_special_requests  \\\n",
              "0                              0.0                        0.0   \n",
              "1                              0.0                        0.0   \n",
              "2                              0.0                        0.0   \n",
              "3                              0.0                        0.0   \n",
              "4                              0.0                        1.0   \n",
              "...                            ...                        ...   \n",
              "14679                          0.0                        1.0   \n",
              "14680                          0.0                        0.0   \n",
              "14681                          0.0                        0.0   \n",
              "14682                          0.0                        0.0   \n",
              "14683                          NaN                        NaN   \n",
              "\n",
              "       reservation_status reservation_status_date  \n",
              "0               Check-Out              2015-07-01  \n",
              "1               Check-Out              2015-07-01  \n",
              "2               Check-Out              2015-07-02  \n",
              "3               Check-Out              2015-07-02  \n",
              "4               Check-Out              2015-07-03  \n",
              "...                   ...                     ...  \n",
              "14679           Check-Out              2017-04-19  \n",
              "14680            Canceled              2015-01-01  \n",
              "14681            Canceled              2015-01-01  \n",
              "14682            Canceled              2015-01-21  \n",
              "14683                 NaN                     NaN  \n",
              "\n",
              "[14684 rows x 32 columns]"
            ],
            "text/html": [
              "\n",
              "  <div id=\"df-a2984ea9-b4d3-4b65-b787-5889a602778c\" class=\"colab-df-container\">\n",
              "    <div>\n",
              "<style scoped>\n",
              "    .dataframe tbody tr th:only-of-type {\n",
              "        vertical-align: middle;\n",
              "    }\n",
              "\n",
              "    .dataframe tbody tr th {\n",
              "        vertical-align: top;\n",
              "    }\n",
              "\n",
              "    .dataframe thead th {\n",
              "        text-align: right;\n",
              "    }\n",
              "</style>\n",
              "<table border=\"1\" class=\"dataframe\">\n",
              "  <thead>\n",
              "    <tr style=\"text-align: right;\">\n",
              "      <th></th>\n",
              "      <th>hotel</th>\n",
              "      <th>is_canceled</th>\n",
              "      <th>lead_time</th>\n",
              "      <th>arrival_date_year</th>\n",
              "      <th>arrival_date_month</th>\n",
              "      <th>arrival_date_week_number</th>\n",
              "      <th>arrival_date_day_of_month</th>\n",
              "      <th>stays_in_weekend_nights</th>\n",
              "      <th>stays_in_week_nights</th>\n",
              "      <th>adults</th>\n",
              "      <th>...</th>\n",
              "      <th>deposit_type</th>\n",
              "      <th>agent</th>\n",
              "      <th>company</th>\n",
              "      <th>days_in_waiting_list</th>\n",
              "      <th>customer_type</th>\n",
              "      <th>adr</th>\n",
              "      <th>required_car_parking_spaces</th>\n",
              "      <th>total_of_special_requests</th>\n",
              "      <th>reservation_status</th>\n",
              "      <th>reservation_status_date</th>\n",
              "    </tr>\n",
              "  </thead>\n",
              "  <tbody>\n",
              "    <tr>\n",
              "      <th>0</th>\n",
              "      <td>Resort Hotel</td>\n",
              "      <td>0</td>\n",
              "      <td>342</td>\n",
              "      <td>2015</td>\n",
              "      <td>July</td>\n",
              "      <td>27</td>\n",
              "      <td>1</td>\n",
              "      <td>0</td>\n",
              "      <td>0</td>\n",
              "      <td>2.0</td>\n",
              "      <td>...</td>\n",
              "      <td>No Deposit</td>\n",
              "      <td>NaN</td>\n",
              "      <td>NaN</td>\n",
              "      <td>0.0</td>\n",
              "      <td>Transient</td>\n",
              "      <td>0.00</td>\n",
              "      <td>0.0</td>\n",
              "      <td>0.0</td>\n",
              "      <td>Check-Out</td>\n",
              "      <td>2015-07-01</td>\n",
              "    </tr>\n",
              "    <tr>\n",
              "      <th>1</th>\n",
              "      <td>Resort Hotel</td>\n",
              "      <td>0</td>\n",
              "      <td>737</td>\n",
              "      <td>2015</td>\n",
              "      <td>July</td>\n",
              "      <td>27</td>\n",
              "      <td>1</td>\n",
              "      <td>0</td>\n",
              "      <td>0</td>\n",
              "      <td>2.0</td>\n",
              "      <td>...</td>\n",
              "      <td>No Deposit</td>\n",
              "      <td>NaN</td>\n",
              "      <td>NaN</td>\n",
              "      <td>0.0</td>\n",
              "      <td>Transient</td>\n",
              "      <td>0.00</td>\n",
              "      <td>0.0</td>\n",
              "      <td>0.0</td>\n",
              "      <td>Check-Out</td>\n",
              "      <td>2015-07-01</td>\n",
              "    </tr>\n",
              "    <tr>\n",
              "      <th>2</th>\n",
              "      <td>Resort Hotel</td>\n",
              "      <td>0</td>\n",
              "      <td>7</td>\n",
              "      <td>2015</td>\n",
              "      <td>July</td>\n",
              "      <td>27</td>\n",
              "      <td>1</td>\n",
              "      <td>0</td>\n",
              "      <td>1</td>\n",
              "      <td>1.0</td>\n",
              "      <td>...</td>\n",
              "      <td>No Deposit</td>\n",
              "      <td>NaN</td>\n",
              "      <td>NaN</td>\n",
              "      <td>0.0</td>\n",
              "      <td>Transient</td>\n",
              "      <td>75.00</td>\n",
              "      <td>0.0</td>\n",
              "      <td>0.0</td>\n",
              "      <td>Check-Out</td>\n",
              "      <td>2015-07-02</td>\n",
              "    </tr>\n",
              "    <tr>\n",
              "      <th>3</th>\n",
              "      <td>Resort Hotel</td>\n",
              "      <td>0</td>\n",
              "      <td>13</td>\n",
              "      <td>2015</td>\n",
              "      <td>July</td>\n",
              "      <td>27</td>\n",
              "      <td>1</td>\n",
              "      <td>0</td>\n",
              "      <td>1</td>\n",
              "      <td>1.0</td>\n",
              "      <td>...</td>\n",
              "      <td>No Deposit</td>\n",
              "      <td>304.0</td>\n",
              "      <td>NaN</td>\n",
              "      <td>0.0</td>\n",
              "      <td>Transient</td>\n",
              "      <td>75.00</td>\n",
              "      <td>0.0</td>\n",
              "      <td>0.0</td>\n",
              "      <td>Check-Out</td>\n",
              "      <td>2015-07-02</td>\n",
              "    </tr>\n",
              "    <tr>\n",
              "      <th>4</th>\n",
              "      <td>Resort Hotel</td>\n",
              "      <td>0</td>\n",
              "      <td>14</td>\n",
              "      <td>2015</td>\n",
              "      <td>July</td>\n",
              "      <td>27</td>\n",
              "      <td>1</td>\n",
              "      <td>0</td>\n",
              "      <td>2</td>\n",
              "      <td>2.0</td>\n",
              "      <td>...</td>\n",
              "      <td>No Deposit</td>\n",
              "      <td>240.0</td>\n",
              "      <td>NaN</td>\n",
              "      <td>0.0</td>\n",
              "      <td>Transient</td>\n",
              "      <td>98.00</td>\n",
              "      <td>0.0</td>\n",
              "      <td>1.0</td>\n",
              "      <td>Check-Out</td>\n",
              "      <td>2015-07-03</td>\n",
              "    </tr>\n",
              "    <tr>\n",
              "      <th>...</th>\n",
              "      <td>...</td>\n",
              "      <td>...</td>\n",
              "      <td>...</td>\n",
              "      <td>...</td>\n",
              "      <td>...</td>\n",
              "      <td>...</td>\n",
              "      <td>...</td>\n",
              "      <td>...</td>\n",
              "      <td>...</td>\n",
              "      <td>...</td>\n",
              "      <td>...</td>\n",
              "      <td>...</td>\n",
              "      <td>...</td>\n",
              "      <td>...</td>\n",
              "      <td>...</td>\n",
              "      <td>...</td>\n",
              "      <td>...</td>\n",
              "      <td>...</td>\n",
              "      <td>...</td>\n",
              "      <td>...</td>\n",
              "      <td>...</td>\n",
              "    </tr>\n",
              "    <tr>\n",
              "      <th>14679</th>\n",
              "      <td>Resort Hotel</td>\n",
              "      <td>0</td>\n",
              "      <td>0</td>\n",
              "      <td>2017</td>\n",
              "      <td>April</td>\n",
              "      <td>16</td>\n",
              "      <td>18</td>\n",
              "      <td>0</td>\n",
              "      <td>1</td>\n",
              "      <td>1.0</td>\n",
              "      <td>...</td>\n",
              "      <td>No Deposit</td>\n",
              "      <td>NaN</td>\n",
              "      <td>329.0</td>\n",
              "      <td>0.0</td>\n",
              "      <td>Transient</td>\n",
              "      <td>74.00</td>\n",
              "      <td>0.0</td>\n",
              "      <td>1.0</td>\n",
              "      <td>Check-Out</td>\n",
              "      <td>2017-04-19</td>\n",
              "    </tr>\n",
              "    <tr>\n",
              "      <th>14680</th>\n",
              "      <td>Resort Hotel</td>\n",
              "      <td>1</td>\n",
              "      <td>399</td>\n",
              "      <td>2015</td>\n",
              "      <td>December</td>\n",
              "      <td>52</td>\n",
              "      <td>22</td>\n",
              "      <td>0</td>\n",
              "      <td>1</td>\n",
              "      <td>2.0</td>\n",
              "      <td>...</td>\n",
              "      <td>No Deposit</td>\n",
              "      <td>240.0</td>\n",
              "      <td>NaN</td>\n",
              "      <td>0.0</td>\n",
              "      <td>Transient</td>\n",
              "      <td>36.00</td>\n",
              "      <td>0.0</td>\n",
              "      <td>0.0</td>\n",
              "      <td>Canceled</td>\n",
              "      <td>2015-01-01</td>\n",
              "    </tr>\n",
              "    <tr>\n",
              "      <th>14681</th>\n",
              "      <td>Resort Hotel</td>\n",
              "      <td>1</td>\n",
              "      <td>202</td>\n",
              "      <td>2015</td>\n",
              "      <td>July</td>\n",
              "      <td>30</td>\n",
              "      <td>22</td>\n",
              "      <td>2</td>\n",
              "      <td>5</td>\n",
              "      <td>2.0</td>\n",
              "      <td>...</td>\n",
              "      <td>No Deposit</td>\n",
              "      <td>156.0</td>\n",
              "      <td>NaN</td>\n",
              "      <td>0.0</td>\n",
              "      <td>Contract</td>\n",
              "      <td>90.95</td>\n",
              "      <td>0.0</td>\n",
              "      <td>0.0</td>\n",
              "      <td>Canceled</td>\n",
              "      <td>2015-01-01</td>\n",
              "    </tr>\n",
              "    <tr>\n",
              "      <th>14682</th>\n",
              "      <td>Resort Hotel</td>\n",
              "      <td>1</td>\n",
              "      <td>259</td>\n",
              "      <td>2015</td>\n",
              "      <td>September</td>\n",
              "      <td>38</td>\n",
              "      <td>17</td>\n",
              "      <td>0</td>\n",
              "      <td>3</td>\n",
              "      <td>2.0</td>\n",
              "      <td>...</td>\n",
              "      <td>Non Refund</td>\n",
              "      <td>NaN</td>\n",
              "      <td>223.0</td>\n",
              "      <td>0.0</td>\n",
              "      <td>Transient</td>\n",
              "      <td>40.05</td>\n",
              "      <td>0.0</td>\n",
              "      <td>0.0</td>\n",
              "      <td>Canceled</td>\n",
              "      <td>2015-01-21</td>\n",
              "    </tr>\n",
              "    <tr>\n",
              "      <th>14683</th>\n",
              "      <td>Resort Hotel</td>\n",
              "      <td>1</td>\n",
              "      <td>259</td>\n",
              "      <td>2015</td>\n",
              "      <td>September</td>\n",
              "      <td>38</td>\n",
              "      <td>17</td>\n",
              "      <td>0</td>\n",
              "      <td>3</td>\n",
              "      <td>NaN</td>\n",
              "      <td>...</td>\n",
              "      <td>NaN</td>\n",
              "      <td>NaN</td>\n",
              "      <td>NaN</td>\n",
              "      <td>NaN</td>\n",
              "      <td>NaN</td>\n",
              "      <td>NaN</td>\n",
              "      <td>NaN</td>\n",
              "      <td>NaN</td>\n",
              "      <td>NaN</td>\n",
              "      <td>NaN</td>\n",
              "    </tr>\n",
              "  </tbody>\n",
              "</table>\n",
              "<p>14684 rows × 32 columns</p>\n",
              "</div>\n",
              "    <div class=\"colab-df-buttons\">\n",
              "\n",
              "  <div class=\"colab-df-container\">\n",
              "    <button class=\"colab-df-convert\" onclick=\"convertToInteractive('df-a2984ea9-b4d3-4b65-b787-5889a602778c')\"\n",
              "            title=\"Convert this dataframe to an interactive table.\"\n",
              "            style=\"display:none;\">\n",
              "\n",
              "  <svg xmlns=\"http://www.w3.org/2000/svg\" height=\"24px\" viewBox=\"0 -960 960 960\">\n",
              "    <path d=\"M120-120v-720h720v720H120Zm60-500h600v-160H180v160Zm220 220h160v-160H400v160Zm0 220h160v-160H400v160ZM180-400h160v-160H180v160Zm440 0h160v-160H620v160ZM180-180h160v-160H180v160Zm440 0h160v-160H620v160Z\"/>\n",
              "  </svg>\n",
              "    </button>\n",
              "\n",
              "  <style>\n",
              "    .colab-df-container {\n",
              "      display:flex;\n",
              "      gap: 12px;\n",
              "    }\n",
              "\n",
              "    .colab-df-convert {\n",
              "      background-color: #E8F0FE;\n",
              "      border: none;\n",
              "      border-radius: 50%;\n",
              "      cursor: pointer;\n",
              "      display: none;\n",
              "      fill: #1967D2;\n",
              "      height: 32px;\n",
              "      padding: 0 0 0 0;\n",
              "      width: 32px;\n",
              "    }\n",
              "\n",
              "    .colab-df-convert:hover {\n",
              "      background-color: #E2EBFA;\n",
              "      box-shadow: 0px 1px 2px rgba(60, 64, 67, 0.3), 0px 1px 3px 1px rgba(60, 64, 67, 0.15);\n",
              "      fill: #174EA6;\n",
              "    }\n",
              "\n",
              "    .colab-df-buttons div {\n",
              "      margin-bottom: 4px;\n",
              "    }\n",
              "\n",
              "    [theme=dark] .colab-df-convert {\n",
              "      background-color: #3B4455;\n",
              "      fill: #D2E3FC;\n",
              "    }\n",
              "\n",
              "    [theme=dark] .colab-df-convert:hover {\n",
              "      background-color: #434B5C;\n",
              "      box-shadow: 0px 1px 3px 1px rgba(0, 0, 0, 0.15);\n",
              "      filter: drop-shadow(0px 1px 2px rgba(0, 0, 0, 0.3));\n",
              "      fill: #FFFFFF;\n",
              "    }\n",
              "  </style>\n",
              "\n",
              "    <script>\n",
              "      const buttonEl =\n",
              "        document.querySelector('#df-a2984ea9-b4d3-4b65-b787-5889a602778c button.colab-df-convert');\n",
              "      buttonEl.style.display =\n",
              "        google.colab.kernel.accessAllowed ? 'block' : 'none';\n",
              "\n",
              "      async function convertToInteractive(key) {\n",
              "        const element = document.querySelector('#df-a2984ea9-b4d3-4b65-b787-5889a602778c');\n",
              "        const dataTable =\n",
              "          await google.colab.kernel.invokeFunction('convertToInteractive',\n",
              "                                                    [key], {});\n",
              "        if (!dataTable) return;\n",
              "\n",
              "        const docLinkHtml = 'Like what you see? Visit the ' +\n",
              "          '<a target=\"_blank\" href=https://colab.research.google.com/notebooks/data_table.ipynb>data table notebook</a>'\n",
              "          + ' to learn more about interactive tables.';\n",
              "        element.innerHTML = '';\n",
              "        dataTable['output_type'] = 'display_data';\n",
              "        await google.colab.output.renderOutput(dataTable, element);\n",
              "        const docLink = document.createElement('div');\n",
              "        docLink.innerHTML = docLinkHtml;\n",
              "        element.appendChild(docLink);\n",
              "      }\n",
              "    </script>\n",
              "  </div>\n",
              "\n",
              "\n",
              "<div id=\"df-d57a895c-9f05-4655-b445-13651e7a6ee9\">\n",
              "  <button class=\"colab-df-quickchart\" onclick=\"quickchart('df-d57a895c-9f05-4655-b445-13651e7a6ee9')\"\n",
              "            title=\"Suggest charts.\"\n",
              "            style=\"display:none;\">\n",
              "\n",
              "<svg xmlns=\"http://www.w3.org/2000/svg\" height=\"24px\"viewBox=\"0 0 24 24\"\n",
              "     width=\"24px\">\n",
              "    <g>\n",
              "        <path d=\"M19 3H5c-1.1 0-2 .9-2 2v14c0 1.1.9 2 2 2h14c1.1 0 2-.9 2-2V5c0-1.1-.9-2-2-2zM9 17H7v-7h2v7zm4 0h-2V7h2v10zm4 0h-2v-4h2v4z\"/>\n",
              "    </g>\n",
              "</svg>\n",
              "  </button>\n",
              "\n",
              "<style>\n",
              "  .colab-df-quickchart {\n",
              "    background-color: #E8F0FE;\n",
              "    border: none;\n",
              "    border-radius: 50%;\n",
              "    cursor: pointer;\n",
              "    display: none;\n",
              "    fill: #1967D2;\n",
              "    height: 32px;\n",
              "    padding: 0 0 0 0;\n",
              "    width: 32px;\n",
              "  }\n",
              "\n",
              "  .colab-df-quickchart:hover {\n",
              "    background-color: #E2EBFA;\n",
              "    box-shadow: 0px 1px 2px rgba(60, 64, 67, 0.3), 0px 1px 3px 1px rgba(60, 64, 67, 0.15);\n",
              "    fill: #174EA6;\n",
              "  }\n",
              "\n",
              "  [theme=dark] .colab-df-quickchart {\n",
              "    background-color: #3B4455;\n",
              "    fill: #D2E3FC;\n",
              "  }\n",
              "\n",
              "  [theme=dark] .colab-df-quickchart:hover {\n",
              "    background-color: #434B5C;\n",
              "    box-shadow: 0px 1px 3px 1px rgba(0, 0, 0, 0.15);\n",
              "    filter: drop-shadow(0px 1px 2px rgba(0, 0, 0, 0.3));\n",
              "    fill: #FFFFFF;\n",
              "  }\n",
              "</style>\n",
              "\n",
              "  <script>\n",
              "    async function quickchart(key) {\n",
              "      const charts = await google.colab.kernel.invokeFunction(\n",
              "          'suggestCharts', [key], {});\n",
              "    }\n",
              "    (() => {\n",
              "      let quickchartButtonEl =\n",
              "        document.querySelector('#df-d57a895c-9f05-4655-b445-13651e7a6ee9 button');\n",
              "      quickchartButtonEl.style.display =\n",
              "        google.colab.kernel.accessAllowed ? 'block' : 'none';\n",
              "    })();\n",
              "  </script>\n",
              "</div>\n",
              "    </div>\n",
              "  </div>\n"
            ]
          },
          "metadata": {},
          "execution_count": 3
        }
      ]
    },
    {
      "cell_type": "code",
      "source": [
        "df.head(2)"
      ],
      "metadata": {
        "colab": {
          "base_uri": "https://localhost:8080/",
          "height": 196
        },
        "id": "0bdiK_gzSpXH",
        "outputId": "9be40380-6c55-4d24-ac89-e5e664ee85bf"
      },
      "execution_count": 4,
      "outputs": [
        {
          "output_type": "execute_result",
          "data": {
            "text/plain": [
              "          hotel  is_canceled  lead_time  arrival_date_year arrival_date_month  \\\n",
              "0  Resort Hotel            0        342               2015               July   \n",
              "1  Resort Hotel            0        737               2015               July   \n",
              "\n",
              "   arrival_date_week_number  arrival_date_day_of_month  \\\n",
              "0                        27                          1   \n",
              "1                        27                          1   \n",
              "\n",
              "   stays_in_weekend_nights  stays_in_week_nights  adults  ...  deposit_type  \\\n",
              "0                        0                     0     2.0  ...    No Deposit   \n",
              "1                        0                     0     2.0  ...    No Deposit   \n",
              "\n",
              "   agent company days_in_waiting_list customer_type  adr  \\\n",
              "0    NaN     NaN                  0.0     Transient  0.0   \n",
              "1    NaN     NaN                  0.0     Transient  0.0   \n",
              "\n",
              "   required_car_parking_spaces  total_of_special_requests  reservation_status  \\\n",
              "0                          0.0                        0.0           Check-Out   \n",
              "1                          0.0                        0.0           Check-Out   \n",
              "\n",
              "  reservation_status_date  \n",
              "0              2015-07-01  \n",
              "1              2015-07-01  \n",
              "\n",
              "[2 rows x 32 columns]"
            ],
            "text/html": [
              "\n",
              "  <div id=\"df-605ce237-9996-4da4-9feb-0938ff598734\" class=\"colab-df-container\">\n",
              "    <div>\n",
              "<style scoped>\n",
              "    .dataframe tbody tr th:only-of-type {\n",
              "        vertical-align: middle;\n",
              "    }\n",
              "\n",
              "    .dataframe tbody tr th {\n",
              "        vertical-align: top;\n",
              "    }\n",
              "\n",
              "    .dataframe thead th {\n",
              "        text-align: right;\n",
              "    }\n",
              "</style>\n",
              "<table border=\"1\" class=\"dataframe\">\n",
              "  <thead>\n",
              "    <tr style=\"text-align: right;\">\n",
              "      <th></th>\n",
              "      <th>hotel</th>\n",
              "      <th>is_canceled</th>\n",
              "      <th>lead_time</th>\n",
              "      <th>arrival_date_year</th>\n",
              "      <th>arrival_date_month</th>\n",
              "      <th>arrival_date_week_number</th>\n",
              "      <th>arrival_date_day_of_month</th>\n",
              "      <th>stays_in_weekend_nights</th>\n",
              "      <th>stays_in_week_nights</th>\n",
              "      <th>adults</th>\n",
              "      <th>...</th>\n",
              "      <th>deposit_type</th>\n",
              "      <th>agent</th>\n",
              "      <th>company</th>\n",
              "      <th>days_in_waiting_list</th>\n",
              "      <th>customer_type</th>\n",
              "      <th>adr</th>\n",
              "      <th>required_car_parking_spaces</th>\n",
              "      <th>total_of_special_requests</th>\n",
              "      <th>reservation_status</th>\n",
              "      <th>reservation_status_date</th>\n",
              "    </tr>\n",
              "  </thead>\n",
              "  <tbody>\n",
              "    <tr>\n",
              "      <th>0</th>\n",
              "      <td>Resort Hotel</td>\n",
              "      <td>0</td>\n",
              "      <td>342</td>\n",
              "      <td>2015</td>\n",
              "      <td>July</td>\n",
              "      <td>27</td>\n",
              "      <td>1</td>\n",
              "      <td>0</td>\n",
              "      <td>0</td>\n",
              "      <td>2.0</td>\n",
              "      <td>...</td>\n",
              "      <td>No Deposit</td>\n",
              "      <td>NaN</td>\n",
              "      <td>NaN</td>\n",
              "      <td>0.0</td>\n",
              "      <td>Transient</td>\n",
              "      <td>0.0</td>\n",
              "      <td>0.0</td>\n",
              "      <td>0.0</td>\n",
              "      <td>Check-Out</td>\n",
              "      <td>2015-07-01</td>\n",
              "    </tr>\n",
              "    <tr>\n",
              "      <th>1</th>\n",
              "      <td>Resort Hotel</td>\n",
              "      <td>0</td>\n",
              "      <td>737</td>\n",
              "      <td>2015</td>\n",
              "      <td>July</td>\n",
              "      <td>27</td>\n",
              "      <td>1</td>\n",
              "      <td>0</td>\n",
              "      <td>0</td>\n",
              "      <td>2.0</td>\n",
              "      <td>...</td>\n",
              "      <td>No Deposit</td>\n",
              "      <td>NaN</td>\n",
              "      <td>NaN</td>\n",
              "      <td>0.0</td>\n",
              "      <td>Transient</td>\n",
              "      <td>0.0</td>\n",
              "      <td>0.0</td>\n",
              "      <td>0.0</td>\n",
              "      <td>Check-Out</td>\n",
              "      <td>2015-07-01</td>\n",
              "    </tr>\n",
              "  </tbody>\n",
              "</table>\n",
              "<p>2 rows × 32 columns</p>\n",
              "</div>\n",
              "    <div class=\"colab-df-buttons\">\n",
              "\n",
              "  <div class=\"colab-df-container\">\n",
              "    <button class=\"colab-df-convert\" onclick=\"convertToInteractive('df-605ce237-9996-4da4-9feb-0938ff598734')\"\n",
              "            title=\"Convert this dataframe to an interactive table.\"\n",
              "            style=\"display:none;\">\n",
              "\n",
              "  <svg xmlns=\"http://www.w3.org/2000/svg\" height=\"24px\" viewBox=\"0 -960 960 960\">\n",
              "    <path d=\"M120-120v-720h720v720H120Zm60-500h600v-160H180v160Zm220 220h160v-160H400v160Zm0 220h160v-160H400v160ZM180-400h160v-160H180v160Zm440 0h160v-160H620v160ZM180-180h160v-160H180v160Zm440 0h160v-160H620v160Z\"/>\n",
              "  </svg>\n",
              "    </button>\n",
              "\n",
              "  <style>\n",
              "    .colab-df-container {\n",
              "      display:flex;\n",
              "      gap: 12px;\n",
              "    }\n",
              "\n",
              "    .colab-df-convert {\n",
              "      background-color: #E8F0FE;\n",
              "      border: none;\n",
              "      border-radius: 50%;\n",
              "      cursor: pointer;\n",
              "      display: none;\n",
              "      fill: #1967D2;\n",
              "      height: 32px;\n",
              "      padding: 0 0 0 0;\n",
              "      width: 32px;\n",
              "    }\n",
              "\n",
              "    .colab-df-convert:hover {\n",
              "      background-color: #E2EBFA;\n",
              "      box-shadow: 0px 1px 2px rgba(60, 64, 67, 0.3), 0px 1px 3px 1px rgba(60, 64, 67, 0.15);\n",
              "      fill: #174EA6;\n",
              "    }\n",
              "\n",
              "    .colab-df-buttons div {\n",
              "      margin-bottom: 4px;\n",
              "    }\n",
              "\n",
              "    [theme=dark] .colab-df-convert {\n",
              "      background-color: #3B4455;\n",
              "      fill: #D2E3FC;\n",
              "    }\n",
              "\n",
              "    [theme=dark] .colab-df-convert:hover {\n",
              "      background-color: #434B5C;\n",
              "      box-shadow: 0px 1px 3px 1px rgba(0, 0, 0, 0.15);\n",
              "      filter: drop-shadow(0px 1px 2px rgba(0, 0, 0, 0.3));\n",
              "      fill: #FFFFFF;\n",
              "    }\n",
              "  </style>\n",
              "\n",
              "    <script>\n",
              "      const buttonEl =\n",
              "        document.querySelector('#df-605ce237-9996-4da4-9feb-0938ff598734 button.colab-df-convert');\n",
              "      buttonEl.style.display =\n",
              "        google.colab.kernel.accessAllowed ? 'block' : 'none';\n",
              "\n",
              "      async function convertToInteractive(key) {\n",
              "        const element = document.querySelector('#df-605ce237-9996-4da4-9feb-0938ff598734');\n",
              "        const dataTable =\n",
              "          await google.colab.kernel.invokeFunction('convertToInteractive',\n",
              "                                                    [key], {});\n",
              "        if (!dataTable) return;\n",
              "\n",
              "        const docLinkHtml = 'Like what you see? Visit the ' +\n",
              "          '<a target=\"_blank\" href=https://colab.research.google.com/notebooks/data_table.ipynb>data table notebook</a>'\n",
              "          + ' to learn more about interactive tables.';\n",
              "        element.innerHTML = '';\n",
              "        dataTable['output_type'] = 'display_data';\n",
              "        await google.colab.output.renderOutput(dataTable, element);\n",
              "        const docLink = document.createElement('div');\n",
              "        docLink.innerHTML = docLinkHtml;\n",
              "        element.appendChild(docLink);\n",
              "      }\n",
              "    </script>\n",
              "  </div>\n",
              "\n",
              "    </div>\n",
              "  </div>\n"
            ]
          },
          "metadata": {},
          "execution_count": 4
        }
      ]
    },
    {
      "cell_type": "code",
      "source": [
        "df.tail(2)"
      ],
      "metadata": {
        "colab": {
          "base_uri": "https://localhost:8080/",
          "height": 196
        },
        "id": "vJ6djavESsKM",
        "outputId": "e19584ed-42cb-4bf9-fa0c-c636f2f319e0"
      },
      "execution_count": 5,
      "outputs": [
        {
          "output_type": "execute_result",
          "data": {
            "text/plain": [
              "              hotel  is_canceled  lead_time  arrival_date_year  \\\n",
              "14682  Resort Hotel            1        259               2015   \n",
              "14683  Resort Hotel            1        259               2015   \n",
              "\n",
              "      arrival_date_month  arrival_date_week_number  arrival_date_day_of_month  \\\n",
              "14682          September                        38                         17   \n",
              "14683          September                        38                         17   \n",
              "\n",
              "       stays_in_weekend_nights  stays_in_week_nights  adults  ...  \\\n",
              "14682                        0                     3     2.0  ...   \n",
              "14683                        0                     3     NaN  ...   \n",
              "\n",
              "       deposit_type  agent company days_in_waiting_list customer_type    adr  \\\n",
              "14682    Non Refund    NaN   223.0                  0.0     Transient  40.05   \n",
              "14683           NaN    NaN     NaN                  NaN           NaN    NaN   \n",
              "\n",
              "       required_car_parking_spaces  total_of_special_requests  \\\n",
              "14682                          0.0                        0.0   \n",
              "14683                          NaN                        NaN   \n",
              "\n",
              "       reservation_status reservation_status_date  \n",
              "14682            Canceled              2015-01-21  \n",
              "14683                 NaN                     NaN  \n",
              "\n",
              "[2 rows x 32 columns]"
            ],
            "text/html": [
              "\n",
              "  <div id=\"df-22deba68-22dd-46ae-b6a8-979e204d4af0\" class=\"colab-df-container\">\n",
              "    <div>\n",
              "<style scoped>\n",
              "    .dataframe tbody tr th:only-of-type {\n",
              "        vertical-align: middle;\n",
              "    }\n",
              "\n",
              "    .dataframe tbody tr th {\n",
              "        vertical-align: top;\n",
              "    }\n",
              "\n",
              "    .dataframe thead th {\n",
              "        text-align: right;\n",
              "    }\n",
              "</style>\n",
              "<table border=\"1\" class=\"dataframe\">\n",
              "  <thead>\n",
              "    <tr style=\"text-align: right;\">\n",
              "      <th></th>\n",
              "      <th>hotel</th>\n",
              "      <th>is_canceled</th>\n",
              "      <th>lead_time</th>\n",
              "      <th>arrival_date_year</th>\n",
              "      <th>arrival_date_month</th>\n",
              "      <th>arrival_date_week_number</th>\n",
              "      <th>arrival_date_day_of_month</th>\n",
              "      <th>stays_in_weekend_nights</th>\n",
              "      <th>stays_in_week_nights</th>\n",
              "      <th>adults</th>\n",
              "      <th>...</th>\n",
              "      <th>deposit_type</th>\n",
              "      <th>agent</th>\n",
              "      <th>company</th>\n",
              "      <th>days_in_waiting_list</th>\n",
              "      <th>customer_type</th>\n",
              "      <th>adr</th>\n",
              "      <th>required_car_parking_spaces</th>\n",
              "      <th>total_of_special_requests</th>\n",
              "      <th>reservation_status</th>\n",
              "      <th>reservation_status_date</th>\n",
              "    </tr>\n",
              "  </thead>\n",
              "  <tbody>\n",
              "    <tr>\n",
              "      <th>14682</th>\n",
              "      <td>Resort Hotel</td>\n",
              "      <td>1</td>\n",
              "      <td>259</td>\n",
              "      <td>2015</td>\n",
              "      <td>September</td>\n",
              "      <td>38</td>\n",
              "      <td>17</td>\n",
              "      <td>0</td>\n",
              "      <td>3</td>\n",
              "      <td>2.0</td>\n",
              "      <td>...</td>\n",
              "      <td>Non Refund</td>\n",
              "      <td>NaN</td>\n",
              "      <td>223.0</td>\n",
              "      <td>0.0</td>\n",
              "      <td>Transient</td>\n",
              "      <td>40.05</td>\n",
              "      <td>0.0</td>\n",
              "      <td>0.0</td>\n",
              "      <td>Canceled</td>\n",
              "      <td>2015-01-21</td>\n",
              "    </tr>\n",
              "    <tr>\n",
              "      <th>14683</th>\n",
              "      <td>Resort Hotel</td>\n",
              "      <td>1</td>\n",
              "      <td>259</td>\n",
              "      <td>2015</td>\n",
              "      <td>September</td>\n",
              "      <td>38</td>\n",
              "      <td>17</td>\n",
              "      <td>0</td>\n",
              "      <td>3</td>\n",
              "      <td>NaN</td>\n",
              "      <td>...</td>\n",
              "      <td>NaN</td>\n",
              "      <td>NaN</td>\n",
              "      <td>NaN</td>\n",
              "      <td>NaN</td>\n",
              "      <td>NaN</td>\n",
              "      <td>NaN</td>\n",
              "      <td>NaN</td>\n",
              "      <td>NaN</td>\n",
              "      <td>NaN</td>\n",
              "      <td>NaN</td>\n",
              "    </tr>\n",
              "  </tbody>\n",
              "</table>\n",
              "<p>2 rows × 32 columns</p>\n",
              "</div>\n",
              "    <div class=\"colab-df-buttons\">\n",
              "\n",
              "  <div class=\"colab-df-container\">\n",
              "    <button class=\"colab-df-convert\" onclick=\"convertToInteractive('df-22deba68-22dd-46ae-b6a8-979e204d4af0')\"\n",
              "            title=\"Convert this dataframe to an interactive table.\"\n",
              "            style=\"display:none;\">\n",
              "\n",
              "  <svg xmlns=\"http://www.w3.org/2000/svg\" height=\"24px\" viewBox=\"0 -960 960 960\">\n",
              "    <path d=\"M120-120v-720h720v720H120Zm60-500h600v-160H180v160Zm220 220h160v-160H400v160Zm0 220h160v-160H400v160ZM180-400h160v-160H180v160Zm440 0h160v-160H620v160ZM180-180h160v-160H180v160Zm440 0h160v-160H620v160Z\"/>\n",
              "  </svg>\n",
              "    </button>\n",
              "\n",
              "  <style>\n",
              "    .colab-df-container {\n",
              "      display:flex;\n",
              "      gap: 12px;\n",
              "    }\n",
              "\n",
              "    .colab-df-convert {\n",
              "      background-color: #E8F0FE;\n",
              "      border: none;\n",
              "      border-radius: 50%;\n",
              "      cursor: pointer;\n",
              "      display: none;\n",
              "      fill: #1967D2;\n",
              "      height: 32px;\n",
              "      padding: 0 0 0 0;\n",
              "      width: 32px;\n",
              "    }\n",
              "\n",
              "    .colab-df-convert:hover {\n",
              "      background-color: #E2EBFA;\n",
              "      box-shadow: 0px 1px 2px rgba(60, 64, 67, 0.3), 0px 1px 3px 1px rgba(60, 64, 67, 0.15);\n",
              "      fill: #174EA6;\n",
              "    }\n",
              "\n",
              "    .colab-df-buttons div {\n",
              "      margin-bottom: 4px;\n",
              "    }\n",
              "\n",
              "    [theme=dark] .colab-df-convert {\n",
              "      background-color: #3B4455;\n",
              "      fill: #D2E3FC;\n",
              "    }\n",
              "\n",
              "    [theme=dark] .colab-df-convert:hover {\n",
              "      background-color: #434B5C;\n",
              "      box-shadow: 0px 1px 3px 1px rgba(0, 0, 0, 0.15);\n",
              "      filter: drop-shadow(0px 1px 2px rgba(0, 0, 0, 0.3));\n",
              "      fill: #FFFFFF;\n",
              "    }\n",
              "  </style>\n",
              "\n",
              "    <script>\n",
              "      const buttonEl =\n",
              "        document.querySelector('#df-22deba68-22dd-46ae-b6a8-979e204d4af0 button.colab-df-convert');\n",
              "      buttonEl.style.display =\n",
              "        google.colab.kernel.accessAllowed ? 'block' : 'none';\n",
              "\n",
              "      async function convertToInteractive(key) {\n",
              "        const element = document.querySelector('#df-22deba68-22dd-46ae-b6a8-979e204d4af0');\n",
              "        const dataTable =\n",
              "          await google.colab.kernel.invokeFunction('convertToInteractive',\n",
              "                                                    [key], {});\n",
              "        if (!dataTable) return;\n",
              "\n",
              "        const docLinkHtml = 'Like what you see? Visit the ' +\n",
              "          '<a target=\"_blank\" href=https://colab.research.google.com/notebooks/data_table.ipynb>data table notebook</a>'\n",
              "          + ' to learn more about interactive tables.';\n",
              "        element.innerHTML = '';\n",
              "        dataTable['output_type'] = 'display_data';\n",
              "        await google.colab.output.renderOutput(dataTable, element);\n",
              "        const docLink = document.createElement('div');\n",
              "        docLink.innerHTML = docLinkHtml;\n",
              "        element.appendChild(docLink);\n",
              "      }\n",
              "    </script>\n",
              "  </div>\n",
              "\n",
              "    </div>\n",
              "  </div>\n"
            ]
          },
          "metadata": {},
          "execution_count": 5
        }
      ]
    },
    {
      "cell_type": "markdown",
      "source": [
        "### Dataset Rows & Columns count"
      ],
      "metadata": {
        "id": "7hBIi_osiCS2"
      }
    },
    {
      "cell_type": "code",
      "source": [
        "# Dataset Rows & Columns code\n",
        "df.shape"
      ],
      "metadata": {
        "id": "Kllu7SJgmLij",
        "colab": {
          "base_uri": "https://localhost:8080/"
        },
        "outputId": "3585c905-ebd2-4ab7-d2df-000c5453b590"
      },
      "execution_count": 6,
      "outputs": [
        {
          "output_type": "execute_result",
          "data": {
            "text/plain": [
              "(14684, 32)"
            ]
          },
          "metadata": {},
          "execution_count": 6
        }
      ]
    },
    {
      "cell_type": "markdown",
      "source": [
        "### Dataset Information"
      ],
      "metadata": {
        "id": "JlHwYmJAmNHm"
      }
    },
    {
      "cell_type": "code",
      "source": [
        "# Dataset Info\n",
        "df.info()"
      ],
      "metadata": {
        "colab": {
          "base_uri": "https://localhost:8080/"
        },
        "id": "K1Hhhsn6S3in",
        "outputId": "a8a2ecde-c2e1-4535-db9f-5618ffd10733"
      },
      "execution_count": 7,
      "outputs": [
        {
          "output_type": "stream",
          "name": "stdout",
          "text": [
            "<class 'pandas.core.frame.DataFrame'>\n",
            "RangeIndex: 14684 entries, 0 to 14683\n",
            "Data columns (total 32 columns):\n",
            " #   Column                          Non-Null Count  Dtype  \n",
            "---  ------                          --------------  -----  \n",
            " 0   hotel                           14684 non-null  object \n",
            " 1   is_canceled                     14684 non-null  int64  \n",
            " 2   lead_time                       14684 non-null  int64  \n",
            " 3   arrival_date_year               14684 non-null  int64  \n",
            " 4   arrival_date_month              14684 non-null  object \n",
            " 5   arrival_date_week_number        14684 non-null  int64  \n",
            " 6   arrival_date_day_of_month       14684 non-null  int64  \n",
            " 7   stays_in_weekend_nights         14684 non-null  int64  \n",
            " 8   stays_in_week_nights            14684 non-null  int64  \n",
            " 9   adults                          14683 non-null  float64\n",
            " 10  children                        14683 non-null  float64\n",
            " 11  babies                          14683 non-null  float64\n",
            " 12  meal                            14683 non-null  object \n",
            " 13  country                         14246 non-null  object \n",
            " 14  market_segment                  14683 non-null  object \n",
            " 15  distribution_channel            14683 non-null  object \n",
            " 16  is_repeated_guest               14683 non-null  float64\n",
            " 17  previous_cancellations          14683 non-null  float64\n",
            " 18  previous_bookings_not_canceled  14683 non-null  float64\n",
            " 19  reserved_room_type              14683 non-null  object \n",
            " 20  assigned_room_type              14683 non-null  object \n",
            " 21  booking_changes                 14683 non-null  float64\n",
            " 22  deposit_type                    14683 non-null  object \n",
            " 23  agent                           12172 non-null  float64\n",
            " 24  company                         1005 non-null   float64\n",
            " 25  days_in_waiting_list            14683 non-null  float64\n",
            " 26  customer_type                   14683 non-null  object \n",
            " 27  adr                             14683 non-null  float64\n",
            " 28  required_car_parking_spaces     14683 non-null  float64\n",
            " 29  total_of_special_requests       14683 non-null  float64\n",
            " 30  reservation_status              14683 non-null  object \n",
            " 31  reservation_status_date         14683 non-null  object \n",
            "dtypes: float64(13), int64(7), object(12)\n",
            "memory usage: 3.6+ MB\n"
          ]
        }
      ]
    },
    {
      "cell_type": "code",
      "source": [
        "# Using group by function\n",
        "def calculate_yearly_mean(df):\n",
        "    yearly_mean = df.groupby('arrival_date_year').mean().head()\n",
        "    return yearly_mean\n",
        "\n",
        "result = calculate_yearly_mean(df)\n",
        "print(result)"
      ],
      "metadata": {
        "colab": {
          "base_uri": "https://localhost:8080/"
        },
        "id": "QU6fKrjETUKC",
        "outputId": "d58dd33e-cec6-4a9f-dfd8-343e535d5af7"
      },
      "execution_count": 8,
      "outputs": [
        {
          "output_type": "stream",
          "name": "stdout",
          "text": [
            "                   is_canceled   lead_time  arrival_date_week_number  \\\n",
            "arrival_date_year                                                      \n",
            "2015                  0.360234   65.181263                 38.736507   \n",
            "2016                  0.729192  138.483046                 27.511097   \n",
            "2017                  0.943768  132.358716                 20.337160   \n",
            "\n",
            "                   arrival_date_day_of_month  stays_in_weekend_nights  \\\n",
            "arrival_date_year                                                       \n",
            "2015                               15.537424                 1.230397   \n",
            "2016                               16.101880                 1.261097   \n",
            "2017                               15.764995                 1.396673   \n",
            "\n",
            "                   stays_in_week_nights    adults  children    babies  \\\n",
            "arrival_date_year                                                       \n",
            "2015                           3.324084  1.971989  0.121721  0.017825   \n",
            "2016                           3.307337  1.873921  0.126541  0.012176   \n",
            "2017                           3.642221  1.920103  0.255623  0.003515   \n",
            "\n",
            "                   is_repeated_guest  previous_cancellations  \\\n",
            "arrival_date_year                                              \n",
            "2015                        0.000255                0.007130   \n",
            "2016                        0.000154                0.007861   \n",
            "2017                        0.000000                0.012184   \n",
            "\n",
            "                   previous_bookings_not_canceled  booking_changes  \\\n",
            "arrival_date_year                                                    \n",
            "2015                                     0.042271         0.222816   \n",
            "2016                                     0.142263         0.249692   \n",
            "2017                                     0.197985         0.191893   \n",
            "\n",
            "                        agent     company  days_in_waiting_list         adr  \\\n",
            "arrival_date_year                                                             \n",
            "2015               209.635998  233.181102              2.256175   95.187604   \n",
            "2016               216.467508  199.520755              0.850185   91.007059   \n",
            "2017               242.146013  250.515837              0.131678  122.008746   \n",
            "\n",
            "                   required_car_parking_spaces  total_of_special_requests  \n",
            "arrival_date_year                                                          \n",
            "2015                                  0.124013                   0.681182  \n",
            "2016                                  0.037145                   0.412145  \n",
            "2017                                  0.016870                   0.597001  \n"
          ]
        },
        {
          "output_type": "stream",
          "name": "stderr",
          "text": [
            "<ipython-input-8-1de574321512>:3: FutureWarning: The default value of numeric_only in DataFrameGroupBy.mean is deprecated. In a future version, numeric_only will default to False. Either specify numeric_only or select only columns which should be valid for the function.\n",
            "  yearly_mean = df.groupby('arrival_date_year').mean().head()\n"
          ]
        }
      ]
    },
    {
      "cell_type": "code",
      "source": [
        "# Sort values\n",
        "df.sort_values('total_of_special_requests', ascending=False).head(2)"
      ],
      "metadata": {
        "colab": {
          "base_uri": "https://localhost:8080/",
          "height": 196
        },
        "id": "iigRZO1RUIar",
        "outputId": "48248bff-d71a-4958-c247-71426248c465"
      },
      "execution_count": 9,
      "outputs": [
        {
          "output_type": "execute_result",
          "data": {
            "text/plain": [
              "              hotel  is_canceled  lead_time  arrival_date_year  \\\n",
              "7860   Resort Hotel            1         39               2016   \n",
              "14596  Resort Hotel            0         22               2015   \n",
              "\n",
              "      arrival_date_month  arrival_date_week_number  arrival_date_day_of_month  \\\n",
              "7860              August                        36                         30   \n",
              "14596               July                        28                          9   \n",
              "\n",
              "       stays_in_weekend_nights  stays_in_week_nights  adults  ...  \\\n",
              "7860                         0                     5     2.0  ...   \n",
              "14596                        0                     3     3.0  ...   \n",
              "\n",
              "       deposit_type  agent company days_in_waiting_list    customer_type  \\\n",
              "7860     No Deposit    NaN     NaN                  0.0        Transient   \n",
              "14596    No Deposit    NaN     NaN                  0.0  Transient-Party   \n",
              "\n",
              "          adr  required_car_parking_spaces  total_of_special_requests  \\\n",
              "7860   159.00                          0.0                        5.0   \n",
              "14596  180.67                          1.0                        5.0   \n",
              "\n",
              "       reservation_status reservation_status_date  \n",
              "7860             Canceled              2016-07-22  \n",
              "14596           Check-Out              2015-07-12  \n",
              "\n",
              "[2 rows x 32 columns]"
            ],
            "text/html": [
              "\n",
              "  <div id=\"df-338bbee1-d751-4bf3-ab53-e3ba961bf2b7\" class=\"colab-df-container\">\n",
              "    <div>\n",
              "<style scoped>\n",
              "    .dataframe tbody tr th:only-of-type {\n",
              "        vertical-align: middle;\n",
              "    }\n",
              "\n",
              "    .dataframe tbody tr th {\n",
              "        vertical-align: top;\n",
              "    }\n",
              "\n",
              "    .dataframe thead th {\n",
              "        text-align: right;\n",
              "    }\n",
              "</style>\n",
              "<table border=\"1\" class=\"dataframe\">\n",
              "  <thead>\n",
              "    <tr style=\"text-align: right;\">\n",
              "      <th></th>\n",
              "      <th>hotel</th>\n",
              "      <th>is_canceled</th>\n",
              "      <th>lead_time</th>\n",
              "      <th>arrival_date_year</th>\n",
              "      <th>arrival_date_month</th>\n",
              "      <th>arrival_date_week_number</th>\n",
              "      <th>arrival_date_day_of_month</th>\n",
              "      <th>stays_in_weekend_nights</th>\n",
              "      <th>stays_in_week_nights</th>\n",
              "      <th>adults</th>\n",
              "      <th>...</th>\n",
              "      <th>deposit_type</th>\n",
              "      <th>agent</th>\n",
              "      <th>company</th>\n",
              "      <th>days_in_waiting_list</th>\n",
              "      <th>customer_type</th>\n",
              "      <th>adr</th>\n",
              "      <th>required_car_parking_spaces</th>\n",
              "      <th>total_of_special_requests</th>\n",
              "      <th>reservation_status</th>\n",
              "      <th>reservation_status_date</th>\n",
              "    </tr>\n",
              "  </thead>\n",
              "  <tbody>\n",
              "    <tr>\n",
              "      <th>7860</th>\n",
              "      <td>Resort Hotel</td>\n",
              "      <td>1</td>\n",
              "      <td>39</td>\n",
              "      <td>2016</td>\n",
              "      <td>August</td>\n",
              "      <td>36</td>\n",
              "      <td>30</td>\n",
              "      <td>0</td>\n",
              "      <td>5</td>\n",
              "      <td>2.0</td>\n",
              "      <td>...</td>\n",
              "      <td>No Deposit</td>\n",
              "      <td>NaN</td>\n",
              "      <td>NaN</td>\n",
              "      <td>0.0</td>\n",
              "      <td>Transient</td>\n",
              "      <td>159.00</td>\n",
              "      <td>0.0</td>\n",
              "      <td>5.0</td>\n",
              "      <td>Canceled</td>\n",
              "      <td>2016-07-22</td>\n",
              "    </tr>\n",
              "    <tr>\n",
              "      <th>14596</th>\n",
              "      <td>Resort Hotel</td>\n",
              "      <td>0</td>\n",
              "      <td>22</td>\n",
              "      <td>2015</td>\n",
              "      <td>July</td>\n",
              "      <td>28</td>\n",
              "      <td>9</td>\n",
              "      <td>0</td>\n",
              "      <td>3</td>\n",
              "      <td>3.0</td>\n",
              "      <td>...</td>\n",
              "      <td>No Deposit</td>\n",
              "      <td>NaN</td>\n",
              "      <td>NaN</td>\n",
              "      <td>0.0</td>\n",
              "      <td>Transient-Party</td>\n",
              "      <td>180.67</td>\n",
              "      <td>1.0</td>\n",
              "      <td>5.0</td>\n",
              "      <td>Check-Out</td>\n",
              "      <td>2015-07-12</td>\n",
              "    </tr>\n",
              "  </tbody>\n",
              "</table>\n",
              "<p>2 rows × 32 columns</p>\n",
              "</div>\n",
              "    <div class=\"colab-df-buttons\">\n",
              "\n",
              "  <div class=\"colab-df-container\">\n",
              "    <button class=\"colab-df-convert\" onclick=\"convertToInteractive('df-338bbee1-d751-4bf3-ab53-e3ba961bf2b7')\"\n",
              "            title=\"Convert this dataframe to an interactive table.\"\n",
              "            style=\"display:none;\">\n",
              "\n",
              "  <svg xmlns=\"http://www.w3.org/2000/svg\" height=\"24px\" viewBox=\"0 -960 960 960\">\n",
              "    <path d=\"M120-120v-720h720v720H120Zm60-500h600v-160H180v160Zm220 220h160v-160H400v160Zm0 220h160v-160H400v160ZM180-400h160v-160H180v160Zm440 0h160v-160H620v160ZM180-180h160v-160H180v160Zm440 0h160v-160H620v160Z\"/>\n",
              "  </svg>\n",
              "    </button>\n",
              "\n",
              "  <style>\n",
              "    .colab-df-container {\n",
              "      display:flex;\n",
              "      gap: 12px;\n",
              "    }\n",
              "\n",
              "    .colab-df-convert {\n",
              "      background-color: #E8F0FE;\n",
              "      border: none;\n",
              "      border-radius: 50%;\n",
              "      cursor: pointer;\n",
              "      display: none;\n",
              "      fill: #1967D2;\n",
              "      height: 32px;\n",
              "      padding: 0 0 0 0;\n",
              "      width: 32px;\n",
              "    }\n",
              "\n",
              "    .colab-df-convert:hover {\n",
              "      background-color: #E2EBFA;\n",
              "      box-shadow: 0px 1px 2px rgba(60, 64, 67, 0.3), 0px 1px 3px 1px rgba(60, 64, 67, 0.15);\n",
              "      fill: #174EA6;\n",
              "    }\n",
              "\n",
              "    .colab-df-buttons div {\n",
              "      margin-bottom: 4px;\n",
              "    }\n",
              "\n",
              "    [theme=dark] .colab-df-convert {\n",
              "      background-color: #3B4455;\n",
              "      fill: #D2E3FC;\n",
              "    }\n",
              "\n",
              "    [theme=dark] .colab-df-convert:hover {\n",
              "      background-color: #434B5C;\n",
              "      box-shadow: 0px 1px 3px 1px rgba(0, 0, 0, 0.15);\n",
              "      filter: drop-shadow(0px 1px 2px rgba(0, 0, 0, 0.3));\n",
              "      fill: #FFFFFF;\n",
              "    }\n",
              "  </style>\n",
              "\n",
              "    <script>\n",
              "      const buttonEl =\n",
              "        document.querySelector('#df-338bbee1-d751-4bf3-ab53-e3ba961bf2b7 button.colab-df-convert');\n",
              "      buttonEl.style.display =\n",
              "        google.colab.kernel.accessAllowed ? 'block' : 'none';\n",
              "\n",
              "      async function convertToInteractive(key) {\n",
              "        const element = document.querySelector('#df-338bbee1-d751-4bf3-ab53-e3ba961bf2b7');\n",
              "        const dataTable =\n",
              "          await google.colab.kernel.invokeFunction('convertToInteractive',\n",
              "                                                    [key], {});\n",
              "        if (!dataTable) return;\n",
              "\n",
              "        const docLinkHtml = 'Like what you see? Visit the ' +\n",
              "          '<a target=\"_blank\" href=https://colab.research.google.com/notebooks/data_table.ipynb>data table notebook</a>'\n",
              "          + ' to learn more about interactive tables.';\n",
              "        element.innerHTML = '';\n",
              "        dataTable['output_type'] = 'display_data';\n",
              "        await google.colab.output.renderOutput(dataTable, element);\n",
              "        const docLink = document.createElement('div');\n",
              "        docLink.innerHTML = docLinkHtml;\n",
              "        element.appendChild(docLink);\n",
              "      }\n",
              "    </script>\n",
              "  </div>\n",
              "\n",
              "    </div>\n",
              "  </div>\n"
            ]
          },
          "metadata": {},
          "execution_count": 9
        }
      ]
    },
    {
      "cell_type": "markdown",
      "source": [
        "#### Duplicate Values"
      ],
      "metadata": {
        "id": "35m5QtbWiB9F"
      }
    },
    {
      "cell_type": "code",
      "source": [
        "# Dataset Duplicate Value Count\n",
        "def count_duplicate_values(df):\n",
        "    duplicate_value_counts = df.duplicated().value_counts()\n",
        "    return df\n",
        "\n",
        "    df_with_dublicate_values = count_dublicate_values(df)\n",
        "    print(df_with_dublicate_values)"
      ],
      "metadata": {
        "id": "1sLdpKYkmox0"
      },
      "execution_count": 10,
      "outputs": []
    },
    {
      "cell_type": "code",
      "source": [
        "# Adding column total staying day in hotel\n",
        "# Function to calculate the total stays based on weekend and weekday nights\n",
        "def calculate_total_stays(df):\n",
        "    df['total_stays'] = df['stays_in_weekend_nights'] + df['stays_in_week_nights']\n",
        "    return df\n",
        "df_with_total_stays = calculate_total_stays(df)\n",
        "\n",
        "print(df_with_total_stays)\n"
      ],
      "metadata": {
        "colab": {
          "base_uri": "https://localhost:8080/"
        },
        "id": "HhWJr70kWrmX",
        "outputId": "10f69e33-47f3-4fe5-a263-c271537dbdf8"
      },
      "execution_count": 11,
      "outputs": [
        {
          "output_type": "stream",
          "name": "stdout",
          "text": [
            "              hotel  is_canceled  lead_time  arrival_date_year  \\\n",
            "0      Resort Hotel            0        342               2015   \n",
            "1      Resort Hotel            0        737               2015   \n",
            "2      Resort Hotel            0          7               2015   \n",
            "3      Resort Hotel            0         13               2015   \n",
            "4      Resort Hotel            0         14               2015   \n",
            "...             ...          ...        ...                ...   \n",
            "14679  Resort Hotel            0          0               2017   \n",
            "14680  Resort Hotel            1        399               2015   \n",
            "14681  Resort Hotel            1        202               2015   \n",
            "14682  Resort Hotel            1        259               2015   \n",
            "14683  Resort Hotel            1        259               2015   \n",
            "\n",
            "      arrival_date_month  arrival_date_week_number  arrival_date_day_of_month  \\\n",
            "0                   July                        27                          1   \n",
            "1                   July                        27                          1   \n",
            "2                   July                        27                          1   \n",
            "3                   July                        27                          1   \n",
            "4                   July                        27                          1   \n",
            "...                  ...                       ...                        ...   \n",
            "14679              April                        16                         18   \n",
            "14680           December                        52                         22   \n",
            "14681               July                        30                         22   \n",
            "14682          September                        38                         17   \n",
            "14683          September                        38                         17   \n",
            "\n",
            "       stays_in_weekend_nights  stays_in_week_nights  adults  ...  agent  \\\n",
            "0                            0                     0     2.0  ...    NaN   \n",
            "1                            0                     0     2.0  ...    NaN   \n",
            "2                            0                     1     1.0  ...    NaN   \n",
            "3                            0                     1     1.0  ...  304.0   \n",
            "4                            0                     2     2.0  ...  240.0   \n",
            "...                        ...                   ...     ...  ...    ...   \n",
            "14679                        0                     1     1.0  ...    NaN   \n",
            "14680                        0                     1     2.0  ...  240.0   \n",
            "14681                        2                     5     2.0  ...  156.0   \n",
            "14682                        0                     3     2.0  ...    NaN   \n",
            "14683                        0                     3     NaN  ...    NaN   \n",
            "\n",
            "       company days_in_waiting_list customer_type    adr  \\\n",
            "0          NaN                  0.0     Transient   0.00   \n",
            "1          NaN                  0.0     Transient   0.00   \n",
            "2          NaN                  0.0     Transient  75.00   \n",
            "3          NaN                  0.0     Transient  75.00   \n",
            "4          NaN                  0.0     Transient  98.00   \n",
            "...        ...                  ...           ...    ...   \n",
            "14679    329.0                  0.0     Transient  74.00   \n",
            "14680      NaN                  0.0     Transient  36.00   \n",
            "14681      NaN                  0.0      Contract  90.95   \n",
            "14682    223.0                  0.0     Transient  40.05   \n",
            "14683      NaN                  NaN           NaN    NaN   \n",
            "\n",
            "      required_car_parking_spaces  total_of_special_requests  \\\n",
            "0                             0.0                        0.0   \n",
            "1                             0.0                        0.0   \n",
            "2                             0.0                        0.0   \n",
            "3                             0.0                        0.0   \n",
            "4                             0.0                        1.0   \n",
            "...                           ...                        ...   \n",
            "14679                         0.0                        1.0   \n",
            "14680                         0.0                        0.0   \n",
            "14681                         0.0                        0.0   \n",
            "14682                         0.0                        0.0   \n",
            "14683                         NaN                        NaN   \n",
            "\n",
            "       reservation_status  reservation_status_date total_stays  \n",
            "0               Check-Out               2015-07-01           0  \n",
            "1               Check-Out               2015-07-01           0  \n",
            "2               Check-Out               2015-07-02           1  \n",
            "3               Check-Out               2015-07-02           1  \n",
            "4               Check-Out               2015-07-03           2  \n",
            "...                   ...                      ...         ...  \n",
            "14679           Check-Out               2017-04-19           1  \n",
            "14680            Canceled               2015-01-01           1  \n",
            "14681            Canceled               2015-01-01           7  \n",
            "14682            Canceled               2015-01-21           3  \n",
            "14683                 NaN                      NaN           3  \n",
            "\n",
            "[14684 rows x 33 columns]\n"
          ]
        }
      ]
    },
    {
      "cell_type": "code",
      "source": [
        "# Function to calculate the total number of people staying in the hotel\n",
        "def count_total_people(df):\n",
        "    df['total_people'] = df['adults'] + df['children'] + df['babies']\n",
        "    return df\n",
        "\n",
        "df_with_total_people = count_total_people(df)\n",
        "\n",
        "print(df_with_total_people)\n"
      ],
      "metadata": {
        "colab": {
          "base_uri": "https://localhost:8080/"
        },
        "id": "j7yQeu-LcNdC",
        "outputId": "d7c049b3-8dd0-4026-b5ed-56c1dcdd9785"
      },
      "execution_count": 12,
      "outputs": [
        {
          "output_type": "stream",
          "name": "stdout",
          "text": [
            "              hotel  is_canceled  lead_time  arrival_date_year  \\\n",
            "0      Resort Hotel            0        342               2015   \n",
            "1      Resort Hotel            0        737               2015   \n",
            "2      Resort Hotel            0          7               2015   \n",
            "3      Resort Hotel            0         13               2015   \n",
            "4      Resort Hotel            0         14               2015   \n",
            "...             ...          ...        ...                ...   \n",
            "14679  Resort Hotel            0          0               2017   \n",
            "14680  Resort Hotel            1        399               2015   \n",
            "14681  Resort Hotel            1        202               2015   \n",
            "14682  Resort Hotel            1        259               2015   \n",
            "14683  Resort Hotel            1        259               2015   \n",
            "\n",
            "      arrival_date_month  arrival_date_week_number  arrival_date_day_of_month  \\\n",
            "0                   July                        27                          1   \n",
            "1                   July                        27                          1   \n",
            "2                   July                        27                          1   \n",
            "3                   July                        27                          1   \n",
            "4                   July                        27                          1   \n",
            "...                  ...                       ...                        ...   \n",
            "14679              April                        16                         18   \n",
            "14680           December                        52                         22   \n",
            "14681               July                        30                         22   \n",
            "14682          September                        38                         17   \n",
            "14683          September                        38                         17   \n",
            "\n",
            "       stays_in_weekend_nights  stays_in_week_nights  adults  ...  company  \\\n",
            "0                            0                     0     2.0  ...      NaN   \n",
            "1                            0                     0     2.0  ...      NaN   \n",
            "2                            0                     1     1.0  ...      NaN   \n",
            "3                            0                     1     1.0  ...      NaN   \n",
            "4                            0                     2     2.0  ...      NaN   \n",
            "...                        ...                   ...     ...  ...      ...   \n",
            "14679                        0                     1     1.0  ...    329.0   \n",
            "14680                        0                     1     2.0  ...      NaN   \n",
            "14681                        2                     5     2.0  ...      NaN   \n",
            "14682                        0                     3     2.0  ...    223.0   \n",
            "14683                        0                     3     NaN  ...      NaN   \n",
            "\n",
            "       days_in_waiting_list customer_type    adr required_car_parking_spaces  \\\n",
            "0                       0.0     Transient   0.00                         0.0   \n",
            "1                       0.0     Transient   0.00                         0.0   \n",
            "2                       0.0     Transient  75.00                         0.0   \n",
            "3                       0.0     Transient  75.00                         0.0   \n",
            "4                       0.0     Transient  98.00                         0.0   \n",
            "...                     ...           ...    ...                         ...   \n",
            "14679                   0.0     Transient  74.00                         0.0   \n",
            "14680                   0.0     Transient  36.00                         0.0   \n",
            "14681                   0.0      Contract  90.95                         0.0   \n",
            "14682                   0.0     Transient  40.05                         0.0   \n",
            "14683                   NaN           NaN    NaN                         NaN   \n",
            "\n",
            "      total_of_special_requests  reservation_status  reservation_status_date  \\\n",
            "0                           0.0           Check-Out               2015-07-01   \n",
            "1                           0.0           Check-Out               2015-07-01   \n",
            "2                           0.0           Check-Out               2015-07-02   \n",
            "3                           0.0           Check-Out               2015-07-02   \n",
            "4                           1.0           Check-Out               2015-07-03   \n",
            "...                         ...                 ...                      ...   \n",
            "14679                       1.0           Check-Out               2017-04-19   \n",
            "14680                       0.0            Canceled               2015-01-01   \n",
            "14681                       0.0            Canceled               2015-01-01   \n",
            "14682                       0.0            Canceled               2015-01-21   \n",
            "14683                       NaN                 NaN                      NaN   \n",
            "\n",
            "       total_stays total_people  \n",
            "0                0          2.0  \n",
            "1                0          2.0  \n",
            "2                1          1.0  \n",
            "3                1          1.0  \n",
            "4                2          2.0  \n",
            "...            ...          ...  \n",
            "14679            1          1.0  \n",
            "14680            1          2.0  \n",
            "14681            7          2.0  \n",
            "14682            3          2.0  \n",
            "14683            3          NaN  \n",
            "\n",
            "[14684 rows x 34 columns]\n"
          ]
        }
      ]
    },
    {
      "cell_type": "code",
      "source": [
        "# Drop duplicates\n",
        "# Function to drop duplicate rows from a DataFrame\n",
        "def drop_duplicate_rows(df):\n",
        "    cleaned_df = df.drop_duplicates()\n",
        "    return cleaned_df\n",
        "\n",
        "cleaned_df = drop_duplicate_rows(df)\n",
        "\n",
        "print(cleaned_df)\n"
      ],
      "metadata": {
        "id": "ILObLghHaepL",
        "colab": {
          "base_uri": "https://localhost:8080/"
        },
        "outputId": "e2976320-c0a2-4423-afd3-b2dcafe5e6bb"
      },
      "execution_count": 13,
      "outputs": [
        {
          "output_type": "stream",
          "name": "stdout",
          "text": [
            "              hotel  is_canceled  lead_time  arrival_date_year  \\\n",
            "0      Resort Hotel            0        342               2015   \n",
            "1      Resort Hotel            0        737               2015   \n",
            "2      Resort Hotel            0          7               2015   \n",
            "3      Resort Hotel            0         13               2015   \n",
            "4      Resort Hotel            0         14               2015   \n",
            "...             ...          ...        ...                ...   \n",
            "14679  Resort Hotel            0          0               2017   \n",
            "14680  Resort Hotel            1        399               2015   \n",
            "14681  Resort Hotel            1        202               2015   \n",
            "14682  Resort Hotel            1        259               2015   \n",
            "14683  Resort Hotel            1        259               2015   \n",
            "\n",
            "      arrival_date_month  arrival_date_week_number  arrival_date_day_of_month  \\\n",
            "0                   July                        27                          1   \n",
            "1                   July                        27                          1   \n",
            "2                   July                        27                          1   \n",
            "3                   July                        27                          1   \n",
            "4                   July                        27                          1   \n",
            "...                  ...                       ...                        ...   \n",
            "14679              April                        16                         18   \n",
            "14680           December                        52                         22   \n",
            "14681               July                        30                         22   \n",
            "14682          September                        38                         17   \n",
            "14683          September                        38                         17   \n",
            "\n",
            "       stays_in_weekend_nights  stays_in_week_nights  adults  ...  company  \\\n",
            "0                            0                     0     2.0  ...      NaN   \n",
            "1                            0                     0     2.0  ...      NaN   \n",
            "2                            0                     1     1.0  ...      NaN   \n",
            "3                            0                     1     1.0  ...      NaN   \n",
            "4                            0                     2     2.0  ...      NaN   \n",
            "...                        ...                   ...     ...  ...      ...   \n",
            "14679                        0                     1     1.0  ...    329.0   \n",
            "14680                        0                     1     2.0  ...      NaN   \n",
            "14681                        2                     5     2.0  ...      NaN   \n",
            "14682                        0                     3     2.0  ...    223.0   \n",
            "14683                        0                     3     NaN  ...      NaN   \n",
            "\n",
            "       days_in_waiting_list customer_type    adr required_car_parking_spaces  \\\n",
            "0                       0.0     Transient   0.00                         0.0   \n",
            "1                       0.0     Transient   0.00                         0.0   \n",
            "2                       0.0     Transient  75.00                         0.0   \n",
            "3                       0.0     Transient  75.00                         0.0   \n",
            "4                       0.0     Transient  98.00                         0.0   \n",
            "...                     ...           ...    ...                         ...   \n",
            "14679                   0.0     Transient  74.00                         0.0   \n",
            "14680                   0.0     Transient  36.00                         0.0   \n",
            "14681                   0.0      Contract  90.95                         0.0   \n",
            "14682                   0.0     Transient  40.05                         0.0   \n",
            "14683                   NaN           NaN    NaN                         NaN   \n",
            "\n",
            "      total_of_special_requests  reservation_status  reservation_status_date  \\\n",
            "0                           0.0           Check-Out               2015-07-01   \n",
            "1                           0.0           Check-Out               2015-07-01   \n",
            "2                           0.0           Check-Out               2015-07-02   \n",
            "3                           0.0           Check-Out               2015-07-02   \n",
            "4                           1.0           Check-Out               2015-07-03   \n",
            "...                         ...                 ...                      ...   \n",
            "14679                       1.0           Check-Out               2017-04-19   \n",
            "14680                       0.0            Canceled               2015-01-01   \n",
            "14681                       0.0            Canceled               2015-01-01   \n",
            "14682                       0.0            Canceled               2015-01-21   \n",
            "14683                       NaN                 NaN                      NaN   \n",
            "\n",
            "       total_stays total_people  \n",
            "0                0          2.0  \n",
            "1                0          2.0  \n",
            "2                1          1.0  \n",
            "3                1          1.0  \n",
            "4                2          2.0  \n",
            "...            ...          ...  \n",
            "14679            1          1.0  \n",
            "14680            1          2.0  \n",
            "14681            7          2.0  \n",
            "14682            3          2.0  \n",
            "14683            3          NaN  \n",
            "\n",
            "[11468 rows x 34 columns]\n"
          ]
        }
      ]
    },
    {
      "cell_type": "markdown",
      "source": [
        "#### Missing Values/Null Values"
      ],
      "metadata": {
        "id": "PoPl-ycgm1ru"
      }
    },
    {
      "cell_type": "code",
      "source": [
        "# Missing Values/Null Values Count\n",
        "missing_value = df.isnull().sum()\n",
        "print(missing_value)"
      ],
      "metadata": {
        "id": "GgHWkxvamxVg",
        "colab": {
          "base_uri": "https://localhost:8080/"
        },
        "outputId": "a10266c8-960d-44ff-8733-e797798a982e"
      },
      "execution_count": 14,
      "outputs": [
        {
          "output_type": "stream",
          "name": "stdout",
          "text": [
            "hotel                                 0\n",
            "is_canceled                           0\n",
            "lead_time                             0\n",
            "arrival_date_year                     0\n",
            "arrival_date_month                    0\n",
            "arrival_date_week_number              0\n",
            "arrival_date_day_of_month             0\n",
            "stays_in_weekend_nights               0\n",
            "stays_in_week_nights                  0\n",
            "adults                                1\n",
            "children                              1\n",
            "babies                                1\n",
            "meal                                  1\n",
            "country                             438\n",
            "market_segment                        1\n",
            "distribution_channel                  1\n",
            "is_repeated_guest                     1\n",
            "previous_cancellations                1\n",
            "previous_bookings_not_canceled        1\n",
            "reserved_room_type                    1\n",
            "assigned_room_type                    1\n",
            "booking_changes                       1\n",
            "deposit_type                          1\n",
            "agent                              2512\n",
            "company                           13679\n",
            "days_in_waiting_list                  1\n",
            "customer_type                         1\n",
            "adr                                   1\n",
            "required_car_parking_spaces           1\n",
            "total_of_special_requests             1\n",
            "reservation_status                    1\n",
            "reservation_status_date               1\n",
            "total_stays                           0\n",
            "total_people                          1\n",
            "dtype: int64\n"
          ]
        }
      ]
    },
    {
      "cell_type": "code",
      "source": [
        "plt.hist(missing_value)\n",
        "plt.show()"
      ],
      "metadata": {
        "colab": {
          "base_uri": "https://localhost:8080/",
          "height": 430
        },
        "id": "5zI4NlhTfF3s",
        "outputId": "fdec2f3b-d13b-4119-c936-ea0cd9912a37"
      },
      "execution_count": 15,
      "outputs": [
        {
          "output_type": "display_data",
          "data": {
            "text/plain": [
              "<Figure size 640x480 with 1 Axes>"
            ],
            "image/png": "[encoded data removed]"
          },
          "metadata": {}
        }
      ]
    },
    {
      "cell_type": "code",
      "source": [
        "df.isna().sum().sort_values(ascending=False)[:5]"
      ],
      "metadata": {
        "colab": {
          "base_uri": "https://localhost:8080/"
        },
        "id": "8fa2Qg0IfaGC",
        "outputId": "e7c8cdbc-e3ac-4735-839c-0133b5274545"
      },
      "execution_count": 16,
      "outputs": [
        {
          "output_type": "execute_result",
          "data": {
            "text/plain": [
              "company                           13679\n",
              "agent                              2512\n",
              "country                             438\n",
              "previous_cancellations                1\n",
              "previous_bookings_not_canceled        1\n",
              "dtype: int64"
            ]
          },
          "metadata": {},
          "execution_count": 16
        }
      ]
    },
    {
      "cell_type": "code",
      "source": [
        "# Null values in country column is replaced by others using .fillna()\n",
        "df['country'].fillna('other', inplace=True)"
      ],
      "metadata": {
        "id": "Edpv8ndDhC_v"
      },
      "execution_count": 17,
      "outputs": []
    },
    {
      "cell_type": "markdown",
      "source": [
        "### What did you know about your dataset?"
      ],
      "metadata": {
        "id": "H0kj-8xxnORC"
      }
    },
    {
      "cell_type": "markdown",
      "source": [
        "\n",
        "The given dataset is of Hotel Booking and we have to analyse and explore this dataset to discover important facrtors which affects the Hotel Booking. The above dataset has 14684 rows and 32 coulumns.The duplicate value count is 11468 rows and 34 columns. There are 4 columns in dataset which have missing valuse and those columns are company, agent, country and children."
      ],
      "metadata": {
        "id": "36fH3o7Pf2Ha"
      }
    },
    {
      "cell_type": "code",
      "source": [
        "df1 = df.copy()\n",
        "df1.head(2)"
      ],
      "metadata": {
        "id": "M3UK3H2HAWdH",
        "colab": {
          "base_uri": "https://localhost:8080/",
          "height": 196
        },
        "outputId": "a9ada9b0-9d80-48e3-e7ea-93b14de9b88d"
      },
      "execution_count": 20,
      "outputs": [
        {
          "output_type": "execute_result",
          "data": {
            "text/plain": [
              "          hotel  is_canceled  lead_time  arrival_date_year arrival_date_month  \\\n",
              "0  Resort Hotel            0        342               2015               July   \n",
              "1  Resort Hotel            0        737               2015               July   \n",
              "\n",
              "   arrival_date_week_number  arrival_date_day_of_month  \\\n",
              "0                        27                          1   \n",
              "1                        27                          1   \n",
              "\n",
              "   stays_in_weekend_nights  stays_in_week_nights  adults  ...  company  \\\n",
              "0                        0                     0     2.0  ...      NaN   \n",
              "1                        0                     0     2.0  ...      NaN   \n",
              "\n",
              "   days_in_waiting_list customer_type  adr required_car_parking_spaces  \\\n",
              "0                   0.0     Transient  0.0                         0.0   \n",
              "1                   0.0     Transient  0.0                         0.0   \n",
              "\n",
              "  total_of_special_requests  reservation_status  reservation_status_date  \\\n",
              "0                       0.0           Check-Out               2015-07-01   \n",
              "1                       0.0           Check-Out               2015-07-01   \n",
              "\n",
              "   total_stays total_people  \n",
              "0            0          2.0  \n",
              "1            0          2.0  \n",
              "\n",
              "[2 rows x 34 columns]"
            ],
            "text/html": [
              "\n",
              "  <div id=\"df-6a632564-a279-4a85-93d3-edaadfc1b3a0\" class=\"colab-df-container\">\n",
              "    <div>\n",
              "<style scoped>\n",
              "    .dataframe tbody tr th:only-of-type {\n",
              "        vertical-align: middle;\n",
              "    }\n",
              "\n",
              "    .dataframe tbody tr th {\n",
              "        vertical-align: top;\n",
              "    }\n",
              "\n",
              "    .dataframe thead th {\n",
              "        text-align: right;\n",
              "    }\n",
              "</style>\n",
              "<table border=\"1\" class=\"dataframe\">\n",
              "  <thead>\n",
              "    <tr style=\"text-align: right;\">\n",
              "      <th></th>\n",
              "      <th>hotel</th>\n",
              "      <th>is_canceled</th>\n",
              "      <th>lead_time</th>\n",
              "      <th>arrival_date_year</th>\n",
              "      <th>arrival_date_month</th>\n",
              "      <th>arrival_date_week_number</th>\n",
              "      <th>arrival_date_day_of_month</th>\n",
              "      <th>stays_in_weekend_nights</th>\n",
              "      <th>stays_in_week_nights</th>\n",
              "      <th>adults</th>\n",
              "      <th>...</th>\n",
              "      <th>company</th>\n",
              "      <th>days_in_waiting_list</th>\n",
              "      <th>customer_type</th>\n",
              "      <th>adr</th>\n",
              "      <th>required_car_parking_spaces</th>\n",
              "      <th>total_of_special_requests</th>\n",
              "      <th>reservation_status</th>\n",
              "      <th>reservation_status_date</th>\n",
              "      <th>total_stays</th>\n",
              "      <th>total_people</th>\n",
              "    </tr>\n",
              "  </thead>\n",
              "  <tbody>\n",
              "    <tr>\n",
              "      <th>0</th>\n",
              "      <td>Resort Hotel</td>\n",
              "      <td>0</td>\n",
              "      <td>342</td>\n",
              "      <td>2015</td>\n",
              "      <td>July</td>\n",
              "      <td>27</td>\n",
              "      <td>1</td>\n",
              "      <td>0</td>\n",
              "      <td>0</td>\n",
              "      <td>2.0</td>\n",
              "      <td>...</td>\n",
              "      <td>NaN</td>\n",
              "      <td>0.0</td>\n",
              "      <td>Transient</td>\n",
              "      <td>0.0</td>\n",
              "      <td>0.0</td>\n",
              "      <td>0.0</td>\n",
              "      <td>Check-Out</td>\n",
              "      <td>2015-07-01</td>\n",
              "      <td>0</td>\n",
              "      <td>2.0</td>\n",
              "    </tr>\n",
              "    <tr>\n",
              "      <th>1</th>\n",
              "      <td>Resort Hotel</td>\n",
              "      <td>0</td>\n",
              "      <td>737</td>\n",
              "      <td>2015</td>\n",
              "      <td>July</td>\n",
              "      <td>27</td>\n",
              "      <td>1</td>\n",
              "      <td>0</td>\n",
              "      <td>0</td>\n",
              "      <td>2.0</td>\n",
              "      <td>...</td>\n",
              "      <td>NaN</td>\n",
              "      <td>0.0</td>\n",
              "      <td>Transient</td>\n",
              "      <td>0.0</td>\n",
              "      <td>0.0</td>\n",
              "      <td>0.0</td>\n",
              "      <td>Check-Out</td>\n",
              "      <td>2015-07-01</td>\n",
              "      <td>0</td>\n",
              "      <td>2.0</td>\n",
              "    </tr>\n",
              "  </tbody>\n",
              "</table>\n",
              "<p>2 rows × 34 columns</p>\n",
              "</div>\n",
              "    <div class=\"colab-df-buttons\">\n",
              "\n",
              "  <div class=\"colab-df-container\">\n",
              "    <button class=\"colab-df-convert\" onclick=\"convertToInteractive('df-6a632564-a279-4a85-93d3-edaadfc1b3a0')\"\n",
              "            title=\"Convert this dataframe to an interactive table.\"\n",
              "            style=\"display:none;\">\n",
              "\n",
              "  <svg xmlns=\"http://www.w3.org/2000/svg\" height=\"24px\" viewBox=\"0 -960 960 960\">\n",
              "    <path d=\"M120-120v-720h720v720H120Zm60-500h600v-160H180v160Zm220 220h160v-160H400v160Zm0 220h160v-160H400v160ZM180-400h160v-160H180v160Zm440 0h160v-160H620v160ZM180-180h160v-160H180v160Zm440 0h160v-160H620v160Z\"/>\n",
              "  </svg>\n",
              "    </button>\n",
              "\n",
              "  <style>\n",
              "    .colab-df-container {\n",
              "      display:flex;\n",
              "      gap: 12px;\n",
              "    }\n",
              "\n",
              "    .colab-df-convert {\n",
              "      background-color: #E8F0FE;\n",
              "      border: none;\n",
              "      border-radius: 50%;\n",
              "      cursor: pointer;\n",
              "      display: none;\n",
              "      fill: #1967D2;\n",
              "      height: 32px;\n",
              "      padding: 0 0 0 0;\n",
              "      width: 32px;\n",
              "    }\n",
              "\n",
              "    .colab-df-convert:hover {\n",
              "      background-color: #E2EBFA;\n",
              "      box-shadow: 0px 1px 2px rgba(60, 64, 67, 0.3), 0px 1px 3px 1px rgba(60, 64, 67, 0.15);\n",
              "      fill: #174EA6;\n",
              "    }\n",
              "\n",
              "    .colab-df-buttons div {\n",
              "      margin-bottom: 4px;\n",
              "    }\n",
              "\n",
              "    [theme=dark] .colab-df-convert {\n",
              "      background-color: #3B4455;\n",
              "      fill: #D2E3FC;\n",
              "    }\n",
              "\n",
              "    [theme=dark] .colab-df-convert:hover {\n",
              "      background-color: #434B5C;\n",
              "      box-shadow: 0px 1px 3px 1px rgba(0, 0, 0, 0.15);\n",
              "      filter: drop-shadow(0px 1px 2px rgba(0, 0, 0, 0.3));\n",
              "      fill: #FFFFFF;\n",
              "    }\n",
              "  </style>\n",
              "\n",
              "    <script>\n",
              "      const buttonEl =\n",
              "        document.querySelector('#df-6a632564-a279-4a85-93d3-edaadfc1b3a0 button.colab-df-convert');\n",
              "      buttonEl.style.display =\n",
              "        google.colab.kernel.accessAllowed ? 'block' : 'none';\n",
              "\n",
              "      async function convertToInteractive(key) {\n",
              "        const element = document.querySelector('#df-6a632564-a279-4a85-93d3-edaadfc1b3a0');\n",
              "        const dataTable =\n",
              "          await google.colab.kernel.invokeFunction('convertToInteractive',\n",
              "                                                    [key], {});\n",
              "        if (!dataTable) return;\n",
              "\n",
              "        const docLinkHtml = 'Like what you see? Visit the ' +\n",
              "          '<a target=\"_blank\" href=https://colab.research.google.com/notebooks/data_table.ipynb>data table notebook</a>'\n",
              "          + ' to learn more about interactive tables.';\n",
              "        element.innerHTML = '';\n",
              "        dataTable['output_type'] = 'display_data';\n",
              "        await google.colab.output.renderOutput(dataTable, element);\n",
              "        const docLink = document.createElement('div');\n",
              "        docLink.innerHTML = docLinkHtml;\n",
              "        element.appendChild(docLink);\n",
              "      }\n",
              "    </script>\n",
              "  </div>\n",
              "\n",
              "    </div>\n",
              "  </div>\n"
            ]
          },
          "metadata": {},
          "execution_count": 20
        }
      ]
    },
    {
      "cell_type": "markdown",
      "source": [
        "## ***2. Understanding Your Variables***"
      ],
      "metadata": {
        "id": "nA9Y7ga8ng1Z"
      }
    },
    {
      "cell_type": "code",
      "source": [
        "# Dataset Column\n",
        "df.columns"
      ],
      "metadata": {
        "id": "j7xfkqrt5Ag5",
        "colab": {
          "base_uri": "https://localhost:8080/"
        },
        "outputId": "d250604b-b078-43c0-8f85-cabb666fb9c5"
      },
      "execution_count": 21,
      "outputs": [
        {
          "output_type": "execute_result",
          "data": {
            "text/plain": [
              "Index(['hotel', 'is_canceled', 'lead_time', 'arrival_date_year',\n",
              "       'arrival_date_month', 'arrival_date_week_number',\n",
              "       'arrival_date_day_of_month', 'stays_in_weekend_nights',\n",
              "       'stays_in_week_nights', 'adults', 'children', 'babies', 'meal',\n",
              "       'country', 'market_segment', 'distribution_channel',\n",
              "       'is_repeated_guest', 'previous_cancellations',\n",
              "       'previous_bookings_not_canceled', 'reserved_room_type',\n",
              "       'assigned_room_type', 'booking_changes', 'deposit_type', 'agent',\n",
              "       'company', 'days_in_waiting_list', 'customer_type', 'adr',\n",
              "       'required_car_parking_spaces', 'total_of_special_requests',\n",
              "       'reservation_status', 'reservation_status_date', 'total_stays',\n",
              "       'total_people'],\n",
              "      dtype='object')"
            ]
          },
          "metadata": {},
          "execution_count": 21
        }
      ]
    },
    {
      "cell_type": "code",
      "source": [
        "# Dataset Describe\n",
        "df.describe()"
      ],
      "metadata": {
        "id": "DnOaZdaE5Q5t",
        "colab": {
          "base_uri": "https://localhost:8080/",
          "height": 350
        },
        "outputId": "50e0d63c-0d88-4f24-d970-46ab4200eef9"
      },
      "execution_count": 23,
      "outputs": [
        {
          "output_type": "execute_result",
          "data": {
            "text/plain": [
              "        is_canceled     lead_time  arrival_date_year  \\\n",
              "count  14684.000000  14684.000000       14684.000000   \n",
              "mean       0.692863    117.094593        2016.023154   \n",
              "std        0.461322    100.774470           0.746767   \n",
              "min        0.000000      0.000000        2015.000000   \n",
              "25%        0.000000     34.000000        2015.000000   \n",
              "50%        1.000000     93.000000        2016.000000   \n",
              "75%        1.000000    179.000000        2017.000000   \n",
              "max        1.000000    737.000000        2017.000000   \n",
              "\n",
              "       arrival_date_week_number  arrival_date_day_of_month  \\\n",
              "count              14684.000000               14684.000000   \n",
              "mean                  28.428766                  15.852969   \n",
              "std                   12.894383                   8.953989   \n",
              "min                    1.000000                   1.000000   \n",
              "25%                   18.000000                   8.000000   \n",
              "50%                   29.000000                  16.000000   \n",
              "75%                   38.000000                  24.000000   \n",
              "max                   53.000000                  31.000000   \n",
              "\n",
              "       stays_in_weekend_nights  stays_in_week_nights        adults  \\\n",
              "count             14684.000000          14684.000000  14683.000000   \n",
              "mean                  1.292291              3.409153      1.913574   \n",
              "std                   1.182850              2.537330      0.977172   \n",
              "min                   0.000000              0.000000      0.000000   \n",
              "25%                   0.000000              2.000000      2.000000   \n",
              "50%                   1.000000              3.000000      2.000000   \n",
              "75%                   2.000000              5.000000      2.000000   \n",
              "max                  19.000000             50.000000     55.000000   \n",
              "\n",
              "           children        babies  ...  previous_bookings_not_canceled  \\\n",
              "count  14683.000000  14683.000000  ...                    14683.000000   \n",
              "mean       0.162773      0.011169  ...                        0.131717   \n",
              "std        0.507737      0.107658  ...                        1.079059   \n",
              "min        0.000000      0.000000  ...                        0.000000   \n",
              "25%        0.000000      0.000000  ...                        0.000000   \n",
              "50%        0.000000      0.000000  ...                        0.000000   \n",
              "75%        0.000000      0.000000  ...                        0.000000   \n",
              "max       10.000000      2.000000  ...                       30.000000   \n",
              "\n",
              "       booking_changes         agent      company  days_in_waiting_list  \\\n",
              "count     14683.000000  12172.000000  1005.000000          14683.000000   \n",
              "mean          0.225703    222.486773   219.241791              1.017367   \n",
              "std           0.648997     82.943935   111.503739             10.283207   \n",
              "min           0.000000      1.000000     9.000000              0.000000   \n",
              "25%           0.000000    240.000000   135.000000              0.000000   \n",
              "50%           0.000000    240.000000   223.000000              0.000000   \n",
              "75%           0.000000    241.000000   281.000000              0.000000   \n",
              "max          17.000000    531.000000   543.000000            150.000000   \n",
              "\n",
              "                adr  required_car_parking_spaces  total_of_special_requests  \\\n",
              "count  14683.000000                 14683.000000               14683.000000   \n",
              "mean     101.136610                     0.054485                   0.537833   \n",
              "std       62.574492                     0.228475                   0.784059   \n",
              "min        0.000000                     0.000000                   0.000000   \n",
              "25%       55.000000                     0.000000                   0.000000   \n",
              "50%       81.000000                     0.000000                   0.000000   \n",
              "75%      135.000000                     0.000000                   1.000000   \n",
              "max      450.000000                     2.000000                   5.000000   \n",
              "\n",
              "        total_stays  total_people  \n",
              "count  14684.000000  14683.000000  \n",
              "mean       4.701444      2.087516  \n",
              "std        3.490788      1.128284  \n",
              "min        0.000000      0.000000  \n",
              "25%        2.000000      2.000000  \n",
              "50%        4.000000      2.000000  \n",
              "75%        7.000000      2.000000  \n",
              "max       69.000000     55.000000  \n",
              "\n",
              "[8 rows x 22 columns]"
            ],
            "text/html": [
              "\n",
              "  <div id=\"df-f2d5f6b8-135c-497f-85eb-280c5b0d7994\" class=\"colab-df-container\">\n",
              "    <div>\n",
              "<style scoped>\n",
              "    .dataframe tbody tr th:only-of-type {\n",
              "        vertical-align: middle;\n",
              "    }\n",
              "\n",
              "    .dataframe tbody tr th {\n",
              "        vertical-align: top;\n",
              "    }\n",
              "\n",
              "    .dataframe thead th {\n",
              "        text-align: right;\n",
              "    }\n",
              "</style>\n",
              "<table border=\"1\" class=\"dataframe\">\n",
              "  <thead>\n",
              "    <tr style=\"text-align: right;\">\n",
              "      <th></th>\n",
              "      <th>is_canceled</th>\n",
              "      <th>lead_time</th>\n",
              "      <th>arrival_date_year</th>\n",
              "      <th>arrival_date_week_number</th>\n",
              "      <th>arrival_date_day_of_month</th>\n",
              "      <th>stays_in_weekend_nights</th>\n",
              "      <th>stays_in_week_nights</th>\n",
              "      <th>adults</th>\n",
              "      <th>children</th>\n",
              "      <th>babies</th>\n",
              "      <th>...</th>\n",
              "      <th>previous_bookings_not_canceled</th>\n",
              "      <th>booking_changes</th>\n",
              "      <th>agent</th>\n",
              "      <th>company</th>\n",
              "      <th>days_in_waiting_list</th>\n",
              "      <th>adr</th>\n",
              "      <th>required_car_parking_spaces</th>\n",
              "      <th>total_of_special_requests</th>\n",
              "      <th>total_stays</th>\n",
              "      <th>total_people</th>\n",
              "    </tr>\n",
              "  </thead>\n",
              "  <tbody>\n",
              "    <tr>\n",
              "      <th>count</th>\n",
              "      <td>14684.000000</td>\n",
              "      <td>14684.000000</td>\n",
              "      <td>14684.000000</td>\n",
              "      <td>14684.000000</td>\n",
              "      <td>14684.000000</td>\n",
              "      <td>14684.000000</td>\n",
              "      <td>14684.000000</td>\n",
              "      <td>14683.000000</td>\n",
              "      <td>14683.000000</td>\n",
              "      <td>14683.000000</td>\n",
              "      <td>...</td>\n",
              "      <td>14683.000000</td>\n",
              "      <td>14683.000000</td>\n",
              "      <td>12172.000000</td>\n",
              "      <td>1005.000000</td>\n",
              "      <td>14683.000000</td>\n",
              "      <td>14683.000000</td>\n",
              "      <td>14683.000000</td>\n",
              "      <td>14683.000000</td>\n",
              "      <td>14684.000000</td>\n",
              "      <td>14683.000000</td>\n",
              "    </tr>\n",
              "    <tr>\n",
              "      <th>mean</th>\n",
              "      <td>0.692863</td>\n",
              "      <td>117.094593</td>\n",
              "      <td>2016.023154</td>\n",
              "      <td>28.428766</td>\n",
              "      <td>15.852969</td>\n",
              "      <td>1.292291</td>\n",
              "      <td>3.409153</td>\n",
              "      <td>1.913574</td>\n",
              "      <td>0.162773</td>\n",
              "      <td>0.011169</td>\n",
              "      <td>...</td>\n",
              "      <td>0.131717</td>\n",
              "      <td>0.225703</td>\n",
              "      <td>222.486773</td>\n",
              "      <td>219.241791</td>\n",
              "      <td>1.017367</td>\n",
              "      <td>101.136610</td>\n",
              "      <td>0.054485</td>\n",
              "      <td>0.537833</td>\n",
              "      <td>4.701444</td>\n",
              "      <td>2.087516</td>\n",
              "    </tr>\n",
              "    <tr>\n",
              "      <th>std</th>\n",
              "      <td>0.461322</td>\n",
              "      <td>100.774470</td>\n",
              "      <td>0.746767</td>\n",
              "      <td>12.894383</td>\n",
              "      <td>8.953989</td>\n",
              "      <td>1.182850</td>\n",
              "      <td>2.537330</td>\n",
              "      <td>0.977172</td>\n",
              "      <td>0.507737</td>\n",
              "      <td>0.107658</td>\n",
              "      <td>...</td>\n",
              "      <td>1.079059</td>\n",
              "      <td>0.648997</td>\n",
              "      <td>82.943935</td>\n",
              "      <td>111.503739</td>\n",
              "      <td>10.283207</td>\n",
              "      <td>62.574492</td>\n",
              "      <td>0.228475</td>\n",
              "      <td>0.784059</td>\n",
              "      <td>3.490788</td>\n",
              "      <td>1.128284</td>\n",
              "    </tr>\n",
              "    <tr>\n",
              "      <th>min</th>\n",
              "      <td>0.000000</td>\n",
              "      <td>0.000000</td>\n",
              "      <td>2015.000000</td>\n",
              "      <td>1.000000</td>\n",
              "      <td>1.000000</td>\n",
              "      <td>0.000000</td>\n",
              "      <td>0.000000</td>\n",
              "      <td>0.000000</td>\n",
              "      <td>0.000000</td>\n",
              "      <td>0.000000</td>\n",
              "      <td>...</td>\n",
              "      <td>0.000000</td>\n",
              "      <td>0.000000</td>\n",
              "      <td>1.000000</td>\n",
              "      <td>9.000000</td>\n",
              "      <td>0.000000</td>\n",
              "      <td>0.000000</td>\n",
              "      <td>0.000000</td>\n",
              "      <td>0.000000</td>\n",
              "      <td>0.000000</td>\n",
              "      <td>0.000000</td>\n",
              "    </tr>\n",
              "    <tr>\n",
              "      <th>25%</th>\n",
              "      <td>0.000000</td>\n",
              "      <td>34.000000</td>\n",
              "      <td>2015.000000</td>\n",
              "      <td>18.000000</td>\n",
              "      <td>8.000000</td>\n",
              "      <td>0.000000</td>\n",
              "      <td>2.000000</td>\n",
              "      <td>2.000000</td>\n",
              "      <td>0.000000</td>\n",
              "      <td>0.000000</td>\n",
              "      <td>...</td>\n",
              "      <td>0.000000</td>\n",
              "      <td>0.000000</td>\n",
              "      <td>240.000000</td>\n",
              "      <td>135.000000</td>\n",
              "      <td>0.000000</td>\n",
              "      <td>55.000000</td>\n",
              "      <td>0.000000</td>\n",
              "      <td>0.000000</td>\n",
              "      <td>2.000000</td>\n",
              "      <td>2.000000</td>\n",
              "    </tr>\n",
              "    <tr>\n",
              "      <th>50%</th>\n",
              "      <td>1.000000</td>\n",
              "      <td>93.000000</td>\n",
              "      <td>2016.000000</td>\n",
              "      <td>29.000000</td>\n",
              "      <td>16.000000</td>\n",
              "      <td>1.000000</td>\n",
              "      <td>3.000000</td>\n",
              "      <td>2.000000</td>\n",
              "      <td>0.000000</td>\n",
              "      <td>0.000000</td>\n",
              "      <td>...</td>\n",
              "      <td>0.000000</td>\n",
              "      <td>0.000000</td>\n",
              "      <td>240.000000</td>\n",
              "      <td>223.000000</td>\n",
              "      <td>0.000000</td>\n",
              "      <td>81.000000</td>\n",
              "      <td>0.000000</td>\n",
              "      <td>0.000000</td>\n",
              "      <td>4.000000</td>\n",
              "      <td>2.000000</td>\n",
              "    </tr>\n",
              "    <tr>\n",
              "      <th>75%</th>\n",
              "      <td>1.000000</td>\n",
              "      <td>179.000000</td>\n",
              "      <td>2017.000000</td>\n",
              "      <td>38.000000</td>\n",
              "      <td>24.000000</td>\n",
              "      <td>2.000000</td>\n",
              "      <td>5.000000</td>\n",
              "      <td>2.000000</td>\n",
              "      <td>0.000000</td>\n",
              "      <td>0.000000</td>\n",
              "      <td>...</td>\n",
              "      <td>0.000000</td>\n",
              "      <td>0.000000</td>\n",
              "      <td>241.000000</td>\n",
              "      <td>281.000000</td>\n",
              "      <td>0.000000</td>\n",
              "      <td>135.000000</td>\n",
              "      <td>0.000000</td>\n",
              "      <td>1.000000</td>\n",
              "      <td>7.000000</td>\n",
              "      <td>2.000000</td>\n",
              "    </tr>\n",
              "    <tr>\n",
              "      <th>max</th>\n",
              "      <td>1.000000</td>\n",
              "      <td>737.000000</td>\n",
              "      <td>2017.000000</td>\n",
              "      <td>53.000000</td>\n",
              "      <td>31.000000</td>\n",
              "      <td>19.000000</td>\n",
              "      <td>50.000000</td>\n",
              "      <td>55.000000</td>\n",
              "      <td>10.000000</td>\n",
              "      <td>2.000000</td>\n",
              "      <td>...</td>\n",
              "      <td>30.000000</td>\n",
              "      <td>17.000000</td>\n",
              "      <td>531.000000</td>\n",
              "      <td>543.000000</td>\n",
              "      <td>150.000000</td>\n",
              "      <td>450.000000</td>\n",
              "      <td>2.000000</td>\n",
              "      <td>5.000000</td>\n",
              "      <td>69.000000</td>\n",
              "      <td>55.000000</td>\n",
              "    </tr>\n",
              "  </tbody>\n",
              "</table>\n",
              "<p>8 rows × 22 columns</p>\n",
              "</div>\n",
              "    <div class=\"colab-df-buttons\">\n",
              "\n",
              "  <div class=\"colab-df-container\">\n",
              "    <button class=\"colab-df-convert\" onclick=\"convertToInteractive('df-f2d5f6b8-135c-497f-85eb-280c5b0d7994')\"\n",
              "            title=\"Convert this dataframe to an interactive table.\"\n",
              "            style=\"display:none;\">\n",
              "\n",
              "  <svg xmlns=\"http://www.w3.org/2000/svg\" height=\"24px\" viewBox=\"0 -960 960 960\">\n",
              "    <path d=\"M120-120v-720h720v720H120Zm60-500h600v-160H180v160Zm220 220h160v-160H400v160Zm0 220h160v-160H400v160ZM180-400h160v-160H180v160Zm440 0h160v-160H620v160ZM180-180h160v-160H180v160Zm440 0h160v-160H620v160Z\"/>\n",
              "  </svg>\n",
              "    </button>\n",
              "\n",
              "  <style>\n",
              "    .colab-df-container {\n",
              "      display:flex;\n",
              "      gap: 12px;\n",
              "    }\n",
              "\n",
              "    .colab-df-convert {\n",
              "      background-color: #E8F0FE;\n",
              "      border: none;\n",
              "      border-radius: 50%;\n",
              "      cursor: pointer;\n",
              "      display: none;\n",
              "      fill: #1967D2;\n",
              "      height: 32px;\n",
              "      padding: 0 0 0 0;\n",
              "      width: 32px;\n",
              "    }\n",
              "\n",
              "    .colab-df-convert:hover {\n",
              "      background-color: #E2EBFA;\n",
              "      box-shadow: 0px 1px 2px rgba(60, 64, 67, 0.3), 0px 1px 3px 1px rgba(60, 64, 67, 0.15);\n",
              "      fill: #174EA6;\n",
              "    }\n",
              "\n",
              "    .colab-df-buttons div {\n",
              "      margin-bottom: 4px;\n",
              "    }\n",
              "\n",
              "    [theme=dark] .colab-df-convert {\n",
              "      background-color: #3B4455;\n",
              "      fill: #D2E3FC;\n",
              "    }\n",
              "\n",
              "    [theme=dark] .colab-df-convert:hover {\n",
              "      background-color: #434B5C;\n",
              "      box-shadow: 0px 1px 3px 1px rgba(0, 0, 0, 0.15);\n",
              "      filter: drop-shadow(0px 1px 2px rgba(0, 0, 0, 0.3));\n",
              "      fill: #FFFFFF;\n",
              "    }\n",
              "  </style>\n",
              "\n",
              "    <script>\n",
              "      const buttonEl =\n",
              "        document.querySelector('#df-f2d5f6b8-135c-497f-85eb-280c5b0d7994 button.colab-df-convert');\n",
              "      buttonEl.style.display =\n",
              "        google.colab.kernel.accessAllowed ? 'block' : 'none';\n",
              "\n",
              "      async function convertToInteractive(key) {\n",
              "        const element = document.querySelector('#df-f2d5f6b8-135c-497f-85eb-280c5b0d7994');\n",
              "        const dataTable =\n",
              "          await google.colab.kernel.invokeFunction('convertToInteractive',\n",
              "                                                    [key], {});\n",
              "        if (!dataTable) return;\n",
              "\n",
              "        const docLinkHtml = 'Like what you see? Visit the ' +\n",
              "          '<a target=\"_blank\" href=https://colab.research.google.com/notebooks/data_table.ipynb>data table notebook</a>'\n",
              "          + ' to learn more about interactive tables.';\n",
              "        element.innerHTML = '';\n",
              "        dataTable['output_type'] = 'display_data';\n",
              "        await google.colab.output.renderOutput(dataTable, element);\n",
              "        const docLink = document.createElement('div');\n",
              "        docLink.innerHTML = docLinkHtml;\n",
              "        element.appendChild(docLink);\n",
              "      }\n",
              "    </script>\n",
              "  </div>\n",
              "\n",
              "\n",
              "<div id=\"df-d7125bd1-cd30-4631-88ce-91d449c97e86\">\n",
              "  <button class=\"colab-df-quickchart\" onclick=\"quickchart('df-d7125bd1-cd30-4631-88ce-91d449c97e86')\"\n",
              "            title=\"Suggest charts.\"\n",
              "            style=\"display:none;\">\n",
              "\n",
              "<svg xmlns=\"http://www.w3.org/2000/svg\" height=\"24px\"viewBox=\"0 0 24 24\"\n",
              "     width=\"24px\">\n",
              "    <g>\n",
              "        <path d=\"M19 3H5c-1.1 0-2 .9-2 2v14c0 1.1.9 2 2 2h14c1.1 0 2-.9 2-2V5c0-1.1-.9-2-2-2zM9 17H7v-7h2v7zm4 0h-2V7h2v10zm4 0h-2v-4h2v4z\"/>\n",
              "    </g>\n",
              "</svg>\n",
              "  </button>\n",
              "\n",
              "<style>\n",
              "  .colab-df-quickchart {\n",
              "    background-color: #E8F0FE;\n",
              "    border: none;\n",
              "    border-radius: 50%;\n",
              "    cursor: pointer;\n",
              "    display: none;\n",
              "    fill: #1967D2;\n",
              "    height: 32px;\n",
              "    padding: 0 0 0 0;\n",
              "    width: 32px;\n",
              "  }\n",
              "\n",
              "  .colab-df-quickchart:hover {\n",
              "    background-color: #E2EBFA;\n",
              "    box-shadow: 0px 1px 2px rgba(60, 64, 67, 0.3), 0px 1px 3px 1px rgba(60, 64, 67, 0.15);\n",
              "    fill: #174EA6;\n",
              "  }\n",
              "\n",
              "  [theme=dark] .colab-df-quickchart {\n",
              "    background-color: #3B4455;\n",
              "    fill: #D2E3FC;\n",
              "  }\n",
              "\n",
              "  [theme=dark] .colab-df-quickchart:hover {\n",
              "    background-color: #434B5C;\n",
              "    box-shadow: 0px 1px 3px 1px rgba(0, 0, 0, 0.15);\n",
              "    filter: drop-shadow(0px 1px 2px rgba(0, 0, 0, 0.3));\n",
              "    fill: #FFFFFF;\n",
              "  }\n",
              "</style>\n",
              "\n",
              "  <script>\n",
              "    async function quickchart(key) {\n",
              "      const charts = await google.colab.kernel.invokeFunction(\n",
              "          'suggestCharts', [key], {});\n",
              "    }\n",
              "    (() => {\n",
              "      let quickchartButtonEl =\n",
              "        document.querySelector('#df-d7125bd1-cd30-4631-88ce-91d449c97e86 button');\n",
              "      quickchartButtonEl.style.display =\n",
              "        google.colab.kernel.accessAllowed ? 'block' : 'none';\n",
              "    })();\n",
              "  </script>\n",
              "</div>\n",
              "    </div>\n",
              "  </div>\n"
            ]
          },
          "metadata": {},
          "execution_count": 23
        }
      ]
    },
    {
      "cell_type": "markdown",
      "source": [
        "### Variables Description"
      ],
      "metadata": {
        "id": "PBTbrJXOngz2"
      }
    },
    {
      "cell_type": "markdown",
      "source": [
        "\n",
        "**1.Hotel:** Type of hotel( Resort)\n",
        "\n",
        "**2.is_cancelled:** If the booking was cancelled(1) or not(0)\n",
        "\n",
        "**3.lead_time**: Number of days before the actual arrival of the guests\n",
        "\n",
        "**4.arrival_date_year:** Year of arrival date\n",
        "\n",
        "**5.arrival_date_month:** Month of arrival date\n",
        "\n",
        "**6.arrival_date_week_number:** Week number of year for arrival date\n",
        "\n",
        "**7.arrival_date_day_of_month:** Day of arrival date\n",
        "\n",
        "**8.stays_in_weekend_nights:** Number of weekend nights(Saturday or Sunday) spent at the hotel by the guests.\n",
        "\n",
        "**9.stays_in_weel_nights**: Number of weeknights(Monday to Friday) spent at the hotel by the guests.\n",
        "\n",
        "**10.adults:** Number of adults among the guests\n",
        "\n",
        "**11.children:** Number of children\n",
        "\n",
        "**12.babies:** Number of babies\n",
        "\n",
        "**13.meal:** Type of meal booked\n",
        "\n",
        "**14.country:** country of the guests\n",
        "\n",
        "**15.market_segment:** Designation of market segment\n",
        "\n",
        "**16.distribution_channel:** Name of booking distribution channel\n",
        "\n",
        "**17.is_repeated_guest:** If the booking was from a repeated guest(1) or not(0)\n",
        "\n",
        "**18.previous_cancellation:** Number of previous bookings that were cancelled by the customer prior to the current booking\n",
        "\n",
        "**19.previous_bookings_not_cancelled:** Number of previous bookins not cancelled by the customer prior to the current bookin\n",
        "\n",
        "**20.reserved_room_type:** Code from room type reserved\n",
        "\n",
        "**21.assigned_room_type:** Code of room type assigned\n",
        "\n",
        "**22.booking_changes:** Number of changes made to the booking\n",
        "\n",
        "**23.deposit_type:** Type of deposite made by the guest\n",
        "\n",
        "**24.agent:** ID of travel agent who made the booking\n",
        "\n",
        "**25.comapny:** ID of the company that made the booking\n",
        "\n",
        "**26.days_in_waiting_list:** Number of the days the booking was in the waiting list\n",
        "\n",
        "**27.customer_type:** Type of customer, assuming one of four categories\n",
        "\n",
        "**28.adr:** Average daily rate\n",
        "\n",
        "**29.required_car_parking_spaces:** Number of car parking spaces required bt the customer\n",
        "\n",
        "**30.total_of_special_requesrs**: Number of special requests made by the customer\n",
        "\n",
        "**31.reservation_statuse:** Reservation status(Canceled, check-out or no-show)\n",
        "\n",
        "**32.reservation_status_date:** Date at which the last reservation status was updated"
      ],
      "metadata": {
        "id": "-ChMoJiRBf33"
      }
    },
    {
      "cell_type": "markdown",
      "source": [
        "### Check Unique Values for each variable."
      ],
      "metadata": {
        "id": "u3PMJOP6ngxN"
      }
    },
    {
      "cell_type": "code",
      "source": [
        "# Check Unique Values for each variable\n",
        "# I describe all the unique values using lambda fuction of indivisual column.\n",
        "print(df1.apply(lambda col: col.unique()))"
      ],
      "metadata": {
        "id": "zms12Yq5n-jE",
        "colab": {
          "base_uri": "https://localhost:8080/"
        },
        "outputId": "585b4afb-8231-43f0-ea93-25fa3e496c85"
      },
      "execution_count": 24,
      "outputs": [
        {
          "output_type": "stream",
          "name": "stdout",
          "text": [
            "hotel                                                                [Resort Hotel]\n",
            "is_canceled                                                                  [0, 1]\n",
            "lead_time                         [342, 737, 7, 13, 14, 0, 9, 85, 75, 23, 35, 68...\n",
            "arrival_date_year                                                [2015, 2016, 2017]\n",
            "arrival_date_month                [July, August, September, October, November, D...\n",
            "arrival_date_week_number          [27, 28, 29, 30, 31, 32, 33, 34, 35, 36, 37, 3...\n",
            "arrival_date_day_of_month         [1, 2, 3, 4, 5, 6, 7, 8, 9, 10, 11, 12, 13, 14...\n",
            "stays_in_weekend_nights           [0, 1, 2, 4, 3, 6, 13, 8, 5, 7, 12, 9, 16, 18,...\n",
            "stays_in_week_nights              [0, 1, 2, 3, 4, 5, 10, 11, 8, 6, 7, 15, 9, 12,...\n",
            "adults                            [2.0, 1.0, 3.0, 4.0, 40.0, 26.0, 50.0, 27.0, 5...\n",
            "children                                            [0.0, 1.0, 2.0, 10.0, 3.0, nan]\n",
            "babies                                                         [0.0, 1.0, 2.0, nan]\n",
            "meal                                               [BB, FB, HB, SC, Undefined, nan]\n",
            "country                           [PRT, GBR, USA, ESP, IRL, FRA, other, ROU, NOR...\n",
            "market_segment                    [Direct, Corporate, Online TA, Offline TA/TO, ...\n",
            "distribution_channel                     [Direct, Corporate, TA/TO, Undefined, nan]\n",
            "is_repeated_guest                                                   [0.0, 1.0, nan]\n",
            "previous_cancellations                                    [0.0, 1.0, 2.0, 3.0, nan]\n",
            "previous_bookings_not_canceled    [0.0, 1.0, 2.0, 3.0, 4.0, 5.0, 6.0, 7.0, 8.0, ...\n",
            "reserved_room_type                                 [C, A, D, E, G, F, H, L, P, nan]\n",
            "assigned_room_type                           [C, A, D, E, G, F, I, B, H, P, L, nan]\n",
            "booking_changes                   [3.0, 4.0, 0.0, 1.0, 2.0, 5.0, 17.0, 6.0, 8.0,...\n",
            "deposit_type                              [No Deposit, Refundable, Non Refund, nan]\n",
            "agent                             [nan, 304.0, 240.0, 303.0, 15.0, 241.0, 8.0, 2...\n",
            "company                           [nan, 110.0, 113.0, 270.0, 178.0, 240.0, 154.0...\n",
            "days_in_waiting_list              [0.0, 50.0, 47.0, 65.0, 122.0, 75.0, 101.0, 15...\n",
            "customer_type                     [Transient, Contract, Transient-Party, Group, ...\n",
            "adr                               [0.0, 75.0, 98.0, 107.0, 103.0, 82.0, 105.5, 1...\n",
            "required_car_parking_spaces                                    [0.0, 1.0, 2.0, nan]\n",
            "total_of_special_requests                       [0.0, 1.0, 3.0, 2.0, 4.0, 5.0, nan]\n",
            "reservation_status                              [Check-Out, Canceled, No-Show, nan]\n",
            "reservation_status_date           [2015-07-01, 2015-07-02, 2015-07-03, 2015-05-0...\n",
            "total_stays                       [0, 1, 2, 3, 4, 5, 6, 7, 14, 15, 10, 11, 8, 9,...\n",
            "total_people                      [2.0, 1.0, 3.0, 4.0, 5.0, 12.0, 40.0, 26.0, 50...\n",
            "dtype: object\n"
          ]
        }
      ]
    },
    {
      "cell_type": "markdown",
      "source": [
        "## 3. ***Data Wrangling***"
      ],
      "metadata": {
        "id": "dauF4eBmngu3"
      }
    },
    {
      "cell_type": "markdown",
      "source": [
        "### Data Wrangling Code"
      ],
      "metadata": {
        "id": "bKJF3rekwFvQ"
      }
    },
    {
      "cell_type": "code",
      "source": [
        "# Write your code to make your dataset analysis ready.\n",
        "df = df.drop_duplicates()\n",
        "df.head(2)"
      ],
      "metadata": {
        "id": "wk-9a2fpoLcV",
        "colab": {
          "base_uri": "https://localhost:8080/",
          "height": 196
        },
        "outputId": "db41c23c-12a2-4670-ede0-1d2686c17269"
      },
      "execution_count": 25,
      "outputs": [
        {
          "output_type": "execute_result",
          "data": {
            "text/plain": [
              "          hotel  is_canceled  lead_time  arrival_date_year arrival_date_month  \\\n",
              "0  Resort Hotel            0        342               2015               July   \n",
              "1  Resort Hotel            0        737               2015               July   \n",
              "\n",
              "   arrival_date_week_number  arrival_date_day_of_month  \\\n",
              "0                        27                          1   \n",
              "1                        27                          1   \n",
              "\n",
              "   stays_in_weekend_nights  stays_in_week_nights  adults  ...  company  \\\n",
              "0                        0                     0     2.0  ...      NaN   \n",
              "1                        0                     0     2.0  ...      NaN   \n",
              "\n",
              "   days_in_waiting_list customer_type  adr required_car_parking_spaces  \\\n",
              "0                   0.0     Transient  0.0                         0.0   \n",
              "1                   0.0     Transient  0.0                         0.0   \n",
              "\n",
              "  total_of_special_requests  reservation_status  reservation_status_date  \\\n",
              "0                       0.0           Check-Out               2015-07-01   \n",
              "1                       0.0           Check-Out               2015-07-01   \n",
              "\n",
              "   total_stays total_people  \n",
              "0            0          2.0  \n",
              "1            0          2.0  \n",
              "\n",
              "[2 rows x 34 columns]"
            ],
            "text/html": [
              "\n",
              "  <div id=\"df-5cd4c306-56f6-461c-bc0f-e16d52c4867a\" class=\"colab-df-container\">\n",
              "    <div>\n",
              "<style scoped>\n",
              "    .dataframe tbody tr th:only-of-type {\n",
              "        vertical-align: middle;\n",
              "    }\n",
              "\n",
              "    .dataframe tbody tr th {\n",
              "        vertical-align: top;\n",
              "    }\n",
              "\n",
              "    .dataframe thead th {\n",
              "        text-align: right;\n",
              "    }\n",
              "</style>\n",
              "<table border=\"1\" class=\"dataframe\">\n",
              "  <thead>\n",
              "    <tr style=\"text-align: right;\">\n",
              "      <th></th>\n",
              "      <th>hotel</th>\n",
              "      <th>is_canceled</th>\n",
              "      <th>lead_time</th>\n",
              "      <th>arrival_date_year</th>\n",
              "      <th>arrival_date_month</th>\n",
              "      <th>arrival_date_week_number</th>\n",
              "      <th>arrival_date_day_of_month</th>\n",
              "      <th>stays_in_weekend_nights</th>\n",
              "      <th>stays_in_week_nights</th>\n",
              "      <th>adults</th>\n",
              "      <th>...</th>\n",
              "      <th>company</th>\n",
              "      <th>days_in_waiting_list</th>\n",
              "      <th>customer_type</th>\n",
              "      <th>adr</th>\n",
              "      <th>required_car_parking_spaces</th>\n",
              "      <th>total_of_special_requests</th>\n",
              "      <th>reservation_status</th>\n",
              "      <th>reservation_status_date</th>\n",
              "      <th>total_stays</th>\n",
              "      <th>total_people</th>\n",
              "    </tr>\n",
              "  </thead>\n",
              "  <tbody>\n",
              "    <tr>\n",
              "      <th>0</th>\n",
              "      <td>Resort Hotel</td>\n",
              "      <td>0</td>\n",
              "      <td>342</td>\n",
              "      <td>2015</td>\n",
              "      <td>July</td>\n",
              "      <td>27</td>\n",
              "      <td>1</td>\n",
              "      <td>0</td>\n",
              "      <td>0</td>\n",
              "      <td>2.0</td>\n",
              "      <td>...</td>\n",
              "      <td>NaN</td>\n",
              "      <td>0.0</td>\n",
              "      <td>Transient</td>\n",
              "      <td>0.0</td>\n",
              "      <td>0.0</td>\n",
              "      <td>0.0</td>\n",
              "      <td>Check-Out</td>\n",
              "      <td>2015-07-01</td>\n",
              "      <td>0</td>\n",
              "      <td>2.0</td>\n",
              "    </tr>\n",
              "    <tr>\n",
              "      <th>1</th>\n",
              "      <td>Resort Hotel</td>\n",
              "      <td>0</td>\n",
              "      <td>737</td>\n",
              "      <td>2015</td>\n",
              "      <td>July</td>\n",
              "      <td>27</td>\n",
              "      <td>1</td>\n",
              "      <td>0</td>\n",
              "      <td>0</td>\n",
              "      <td>2.0</td>\n",
              "      <td>...</td>\n",
              "      <td>NaN</td>\n",
              "      <td>0.0</td>\n",
              "      <td>Transient</td>\n",
              "      <td>0.0</td>\n",
              "      <td>0.0</td>\n",
              "      <td>0.0</td>\n",
              "      <td>Check-Out</td>\n",
              "      <td>2015-07-01</td>\n",
              "      <td>0</td>\n",
              "      <td>2.0</td>\n",
              "    </tr>\n",
              "  </tbody>\n",
              "</table>\n",
              "<p>2 rows × 34 columns</p>\n",
              "</div>\n",
              "    <div class=\"colab-df-buttons\">\n",
              "\n",
              "  <div class=\"colab-df-container\">\n",
              "    <button class=\"colab-df-convert\" onclick=\"convertToInteractive('df-5cd4c306-56f6-461c-bc0f-e16d52c4867a')\"\n",
              "            title=\"Convert this dataframe to an interactive table.\"\n",
              "            style=\"display:none;\">\n",
              "\n",
              "  <svg xmlns=\"http://www.w3.org/2000/svg\" height=\"24px\" viewBox=\"0 -960 960 960\">\n",
              "    <path d=\"M120-120v-720h720v720H120Zm60-500h600v-160H180v160Zm220 220h160v-160H400v160Zm0 220h160v-160H400v160ZM180-400h160v-160H180v160Zm440 0h160v-160H620v160ZM180-180h160v-160H180v160Zm440 0h160v-160H620v160Z\"/>\n",
              "  </svg>\n",
              "    </button>\n",
              "\n",
              "  <style>\n",
              "    .colab-df-container {\n",
              "      display:flex;\n",
              "      gap: 12px;\n",
              "    }\n",
              "\n",
              "    .colab-df-convert {\n",
              "      background-color: #E8F0FE;\n",
              "      border: none;\n",
              "      border-radius: 50%;\n",
              "      cursor: pointer;\n",
              "      display: none;\n",
              "      fill: #1967D2;\n",
              "      height: 32px;\n",
              "      padding: 0 0 0 0;\n",
              "      width: 32px;\n",
              "    }\n",
              "\n",
              "    .colab-df-convert:hover {\n",
              "      background-color: #E2EBFA;\n",
              "      box-shadow: 0px 1px 2px rgba(60, 64, 67, 0.3), 0px 1px 3px 1px rgba(60, 64, 67, 0.15);\n",
              "      fill: #174EA6;\n",
              "    }\n",
              "\n",
              "    .colab-df-buttons div {\n",
              "      margin-bottom: 4px;\n",
              "    }\n",
              "\n",
              "    [theme=dark] .colab-df-convert {\n",
              "      background-color: #3B4455;\n",
              "      fill: #D2E3FC;\n",
              "    }\n",
              "\n",
              "    [theme=dark] .colab-df-convert:hover {\n",
              "      background-color: #434B5C;\n",
              "      box-shadow: 0px 1px 3px 1px rgba(0, 0, 0, 0.15);\n",
              "      filter: drop-shadow(0px 1px 2px rgba(0, 0, 0, 0.3));\n",
              "      fill: #FFFFFF;\n",
              "    }\n",
              "  </style>\n",
              "\n",
              "    <script>\n",
              "      const buttonEl =\n",
              "        document.querySelector('#df-5cd4c306-56f6-461c-bc0f-e16d52c4867a button.colab-df-convert');\n",
              "      buttonEl.style.display =\n",
              "        google.colab.kernel.accessAllowed ? 'block' : 'none';\n",
              "\n",
              "      async function convertToInteractive(key) {\n",
              "        const element = document.querySelector('#df-5cd4c306-56f6-461c-bc0f-e16d52c4867a');\n",
              "        const dataTable =\n",
              "          await google.colab.kernel.invokeFunction('convertToInteractive',\n",
              "                                                    [key], {});\n",
              "        if (!dataTable) return;\n",
              "\n",
              "        const docLinkHtml = 'Like what you see? Visit the ' +\n",
              "          '<a target=\"_blank\" href=https://colab.research.google.com/notebooks/data_table.ipynb>data table notebook</a>'\n",
              "          + ' to learn more about interactive tables.';\n",
              "        element.innerHTML = '';\n",
              "        dataTable['output_type'] = 'display_data';\n",
              "        await google.colab.output.renderOutput(dataTable, element);\n",
              "        const docLink = document.createElement('div');\n",
              "        docLink.innerHTML = docLinkHtml;\n",
              "        element.appendChild(docLink);\n",
              "      }\n",
              "    </script>\n",
              "  </div>\n",
              "\n",
              "    </div>\n",
              "  </div>\n"
            ]
          },
          "metadata": {},
          "execution_count": 25
        }
      ]
    },
    {
      "cell_type": "code",
      "source": [
        "# shape of columns which have no bookings\n",
        "df1[df1['adults']+df1['babies']+df1['children'] == 0].shape"
      ],
      "metadata": {
        "colab": {
          "base_uri": "https://localhost:8080/"
        },
        "id": "HtoSSgkvp9zn",
        "outputId": "f7697435-e582-47f0-fd40-5a70c9a4c519"
      },
      "execution_count": 26,
      "outputs": [
        {
          "output_type": "execute_result",
          "data": {
            "text/plain": [
              "(7, 34)"
            ]
          },
          "metadata": {},
          "execution_count": 26
        }
      ]
    },
    {
      "cell_type": "code",
      "source": [
        "# Columns are dropped here using drop function\n",
        "df1.drop(df1[df1['adults']+df1['babies']+df1['children'] == 0].index, inplace = True)"
      ],
      "metadata": {
        "id": "fkAzoK8sqFYh"
      },
      "execution_count": 27,
      "outputs": []
    },
    {
      "cell_type": "markdown",
      "source": [
        "### What all manipulations have you done and insights you found?"
      ],
      "metadata": {
        "id": "MSa1f5Uengrz"
      }
    },
    {
      "cell_type": "markdown",
      "source": [
        "\n",
        ".In the given dataframe, there were 31994 duplicate values. So those values were removed.\n",
        "\n",
        ".There were 4 columns which have missing values and the columns were 'company','agent','country','children'. The values from these columns are replaced by zero.\n",
        "\n",
        ".In dataframe added two columns tatal_stay and total_people.\n",
        "\n",
        ".Three columns 'adults','children','babies' had valuen zero which means no booking has done here, so these columns were removed."
      ],
      "metadata": {
        "id": "OOcIF6qCdGBQ"
      }
    },
    {
      "cell_type": "markdown",
      "source": [
        "## ***4. Data Vizualization, Storytelling & Experimenting with charts : Understand the relationships between variables***"
      ],
      "metadata": {
        "id": "GF8Ens_Soomf"
      }
    },
    {
      "cell_type": "markdown",
      "source": [
        "#### Chart - 1"
      ],
      "metadata": {
        "id": "0wOQAZs5pc--"
      }
    },
    {
      "cell_type": "code",
      "source": [
        "# Chart - 1 visualization code"
      ],
      "metadata": {
        "id": "7v_ESjsspbW7"
      },
      "execution_count": null,
      "outputs": []
    },
    {
      "cell_type": "markdown",
      "source": [
        "##### 1. Why did you pick the specific chart?"
      ],
      "metadata": {
        "id": "K5QZ13OEpz2H"
      }
    },
    {
      "cell_type": "markdown",
      "source": [
        "##### 2. What is/are the insight(s) found from the chart?"
      ],
      "metadata": {
        "id": "lQ7QKXXCp7Bj"
      }
    },
    {
      "cell_type": "markdown",
      "source": [
        "3. Will the gained insights help creating a positive business impact?\n",
        "Are there any insights that lead to negative growth? Justify with specific reason."
      ],
      "metadata": {
        "id": "ur5T8FJYPr9S"
      }
    },
    {
      "cell_type": "markdown",
      "source": [
        "#### Chart - 2"
      ],
      "metadata": {
        "id": "KSlN3yHqYklG"
      }
    },
    {
      "cell_type": "code",
      "source": [
        "# Chart - 2 visualization code"
      ],
      "metadata": {
        "id": "s40EZbMorNmS"
      },
      "execution_count": null,
      "outputs": []
    },
    {
      "cell_type": "markdown",
      "source": [
        "##### 1. Why did you pick the specific chart?"
      ],
      "metadata": {
        "id": "t6dVpIINYklI"
      }
    },
    {
      "cell_type": "markdown",
      "source": [
        "##### 2. What is/are the insight(s) found from the chart?"
      ],
      "metadata": {
        "id": "ijmpgYnKYklI"
      }
    },
    {
      "cell_type": "markdown",
      "source": [
        "##### 3. Will the gained insights help creating a positive business impact?\n",
        "Are there any insights that lead to negative growth? Justify with specific reason."
      ],
      "metadata": {
        "id": "-JiQyfWJYklI"
      }
    },
    {
      "cell_type": "markdown",
      "source": [
        "#### Chart - 3"
      ],
      "metadata": {
        "id": "EM7whBJCYoAo"
      }
    },
    {
      "cell_type": "code",
      "source": [
        "# Chart - 3 visualization code"
      ],
      "metadata": {
        "id": "t6GMdE67YoAp"
      },
      "execution_count": null,
      "outputs": []
    },
    {
      "cell_type": "markdown",
      "source": [
        "##### 1. Why did you pick the specific chart?"
      ],
      "metadata": {
        "id": "fge-S5ZAYoAp"
      }
    },
    {
      "cell_type": "markdown",
      "source": [
        "##### 2. What is/are the insight(s) found from the chart?"
      ],
      "metadata": {
        "id": "85gYPyotYoAp"
      }
    },
    {
      "cell_type": "markdown",
      "source": [
        "##### 3. Will the gained insights help creating a positive business impact?\n",
        "Are there any insights that lead to negative growth? Justify with specific reason."
      ],
      "metadata": {
        "id": "RoGjAbkUYoAp"
      }
    },
    {
      "cell_type": "markdown",
      "source": [
        "#### Chart - 4"
      ],
      "metadata": {
        "id": "4Of9eVA-YrdM"
      }
    },
    {
      "cell_type": "code",
      "source": [
        "# Chart - 4 visualization code"
      ],
      "metadata": {
        "id": "irlUoxc8YrdO"
      },
      "execution_count": null,
      "outputs": []
    },
    {
      "cell_type": "markdown",
      "source": [
        "##### 1. Why did you pick the specific chart?"
      ],
      "metadata": {
        "id": "iky9q4vBYrdO"
      }
    },
    {
      "cell_type": "markdown",
      "source": [
        "##### 2. What is/are the insight(s) found from the chart?"
      ],
      "metadata": {
        "id": "F6T5p64dYrdO"
      }
    },
    {
      "cell_type": "markdown",
      "source": [
        "##### 3. Will the gained insights help creating a positive business impact?\n",
        "Are there any insights that lead to negative growth? Justify with specific reason."
      ],
      "metadata": {
        "id": "y-Ehk30pYrdP"
      }
    },
    {
      "cell_type": "markdown",
      "source": [
        "#### Chart - 5"
      ],
      "metadata": {
        "id": "bamQiAODYuh1"
      }
    },
    {
      "cell_type": "code",
      "source": [
        "# Chart - 5 visualization code"
      ],
      "metadata": {
        "id": "TIJwrbroYuh3"
      },
      "execution_count": null,
      "outputs": []
    },
    {
      "cell_type": "markdown",
      "source": [
        "##### 1. Why did you pick the specific chart?"
      ],
      "metadata": {
        "id": "QHF8YVU7Yuh3"
      }
    },
    {
      "cell_type": "markdown",
      "source": [
        "##### 2. What is/are the insight(s) found from the chart?"
      ],
      "metadata": {
        "id": "GwzvFGzlYuh3"
      }
    },
    {
      "cell_type": "markdown",
      "source": [
        "##### 3. Will the gained insights help creating a positive business impact?\n",
        "Are there any insights that lead to negative growth? Justify with specific reason."
      ],
      "metadata": {
        "id": "qYpmQ266Yuh3"
      }
    },
    {
      "cell_type": "markdown",
      "source": [
        "#### Chart - 6"
      ],
      "metadata": {
        "id": "OH-pJp9IphqM"
      }
    },
    {
      "cell_type": "code",
      "source": [
        "# Chart - 6 visualization code"
      ],
      "metadata": {
        "id": "kuRf4wtuphqN"
      },
      "execution_count": null,
      "outputs": []
    },
    {
      "cell_type": "markdown",
      "source": [
        "##### 1. Why did you pick the specific chart?"
      ],
      "metadata": {
        "id": "bbFf2-_FphqN"
      }
    },
    {
      "cell_type": "markdown",
      "source": [
        "##### 2. What is/are the insight(s) found from the chart?"
      ],
      "metadata": {
        "id": "_ouA3fa0phqN"
      }
    },
    {
      "cell_type": "markdown",
      "source": [
        "##### 3. Will the gained insights help creating a positive business impact?\n",
        "Are there any insights that lead to negative growth? Justify with specific reason."
      ],
      "metadata": {
        "id": "Seke61FWphqN"
      }
    },
    {
      "cell_type": "markdown",
      "source": [
        "#### Chart - 7"
      ],
      "metadata": {
        "id": "PIIx-8_IphqN"
      }
    },
    {
      "cell_type": "code",
      "source": [
        "# Chart - 7 visualization code"
      ],
      "metadata": {
        "id": "lqAIGUfyphqO"
      },
      "execution_count": null,
      "outputs": []
    },
    {
      "cell_type": "markdown",
      "source": [
        "##### 1. Why did you pick the specific chart?"
      ],
      "metadata": {
        "id": "t27r6nlMphqO"
      }
    },
    {
      "cell_type": "markdown",
      "source": [
        "2. What is/are the insight(s) found from the chart?"
      ],
      "metadata": {
        "id": "HVWpAEohKKxv"
      }
    },
    {
      "cell_type": "markdown",
      "source": [
        "##### 3. Will the gained insights help creating a positive business impact?\n",
        "Are there any insights that lead to negative growth? Justify with specific reason."
      ],
      "metadata": {
        "id": "b0JNsNcRphqO"
      }
    },
    {
      "cell_type": "markdown",
      "source": [
        "#### Chart - 8"
      ],
      "metadata": {
        "id": "BZR9WyysphqO"
      }
    },
    {
      "cell_type": "code",
      "source": [
        "# Chart - 8 visualization code"
      ],
      "metadata": {
        "id": "TdPTWpAVphqO"
      },
      "execution_count": null,
      "outputs": []
    },
    {
      "cell_type": "markdown",
      "source": [
        "##### 1. Why did you pick the specific chart?"
      ],
      "metadata": {
        "id": "jj7wYXLtphqO"
      }
    },
    {
      "cell_type": "markdown",
      "source": [
        "##### 2. What is/are the insight(s) found from the chart?"
      ],
      "metadata": {
        "id": "eZrbJ2SmphqO"
      }
    },
    {
      "cell_type": "markdown",
      "source": [
        "##### 3. Will the gained insights help creating a positive business impact?\n",
        "Are there any insights that lead to negative growth? Justify with specific reason."
      ],
      "metadata": {
        "id": "rFu4xreNphqO"
      }
    },
    {
      "cell_type": "markdown",
      "source": [
        "#### Chart - 9"
      ],
      "metadata": {
        "id": "YJ55k-q6phqO"
      }
    },
    {
      "cell_type": "code",
      "source": [
        "# Chart - 9 visualization code\n"
      ],
      "metadata": {
        "id": "B2aS4O1ophqO"
      },
      "execution_count": null,
      "outputs": []
    },
    {
      "cell_type": "markdown",
      "source": [
        "##### 1. Why did you pick the specific chart?"
      ],
      "metadata": {
        "id": "gCFgpxoyphqP"
      }
    },
    {
      "cell_type": "markdown",
      "source": [
        "##### 2. What is/are the insight(s) found from the chart?"
      ],
      "metadata": {
        "id": "OVtJsKN_phqQ"
      }
    },
    {
      "cell_type": "markdown",
      "source": [
        "#### Chart - 10"
      ],
      "metadata": {
        "id": "U2RJ9gkRphqQ"
      }
    },
    {
      "cell_type": "code",
      "source": [
        "# Chart - 10 visualization"
      ],
      "metadata": {
        "id": "GM7a4YP4phqQ"
      },
      "execution_count": null,
      "outputs": []
    },
    {
      "cell_type": "markdown",
      "source": [
        "1. Why did you pick the specific chart?"
      ],
      "metadata": {
        "id": "6LnWUdKzKyh7"
      }
    },
    {
      "cell_type": "markdown",
      "source": [
        "2. What is/are the insight(s) found from the chart?"
      ],
      "metadata": {
        "id": "ezLQpLlJK6P0"
      }
    },
    {
      "cell_type": "markdown",
      "source": [
        "##### 3. Will the gained insights help creating a positive business impact?\n",
        "Are there any insights that lead to negative growth? Justify with specific reason."
      ],
      "metadata": {
        "id": "JMzcOPDDphqR"
      }
    },
    {
      "cell_type": "markdown",
      "source": [
        "## **5. Solution to Business Objective**"
      ],
      "metadata": {
        "id": "JcMwzZxoAimU"
      }
    },
    {
      "cell_type": "markdown",
      "source": [
        "# **Conclusion**"
      ],
      "metadata": {
        "id": "MKJQbn9RK9MQ"
      }
    },
    {
      "cell_type": "markdown",
      "source": [
        "### ***Hurrah! You have successfully completed your EDA Capstone Project !!!***"
      ],
      "metadata": {
        "id": "gIfDvo9L0UH2"
      }
    }
  ]
}